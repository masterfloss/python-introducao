{
  "nbformat": 4,
  "nbformat_minor": 0,
  "metadata": {
    "colab": {
      "name": "1.Numpy.ipynb",
      "version": "0.3.2",
      "provenance": []
    },
    "kernelspec": {
      "name": "python3",
      "display_name": "Python 3"
    }
  },
  "cells": [
    {
      "metadata": {
        "id": "pT7Xarv2_lay",
        "colab_type": "code",
        "colab": {}
      },
      "cell_type": "code",
      "source": [
        "# Numpy é uma biblioteca fundamental do Python para computação científica\n",
        "# Fornece funcionalidades relacionadas com arrays\n",
        "# Tem nível mais elevado de desempenho\n"
      ],
      "execution_count": 0,
      "outputs": []
    },
    {
      "metadata": {
        "id": "aAz_BAhR_7_7",
        "colab_type": "code",
        "colab": {
          "base_uri": "https://localhost:8080/",
          "height": 36
        },
        "outputId": "50d9c936-9fe6-46d9-8008-1a586abeb067"
      },
      "cell_type": "code",
      "source": [
        "import numpy as np\n",
        "c = np.array([1,2,3,4])\n",
        "print(type(c))\n"
      ],
      "execution_count": 1,
      "outputs": [
        {
          "output_type": "stream",
          "text": [
            "<class 'numpy.ndarray'>\n"
          ],
          "name": "stdout"
        }
      ]
    },
    {
      "metadata": {
        "id": "mR0JpLSQAC0N",
        "colab_type": "code",
        "colab": {}
      },
      "cell_type": "code",
      "source": [
        "# Criar array\n",
        "a = np.array([1,2,3,4])\n",
        "\n"
      ],
      "execution_count": 0,
      "outputs": []
    },
    {
      "metadata": {
        "id": "5F8DtsgFAF5g",
        "colab_type": "code",
        "colab": {}
      },
      "cell_type": "code",
      "source": [
        "#Shape, rank e size:\n",
        "shape = a.shape\n",
        "rank = np.ndim(a)\n",
        "tamanho = a.size\n"
      ],
      "execution_count": 0,
      "outputs": []
    },
    {
      "metadata": {
        "id": "juR-fXvLARrE",
        "colab_type": "code",
        "colab": {
          "base_uri": "https://localhost:8080/",
          "height": 36
        },
        "outputId": "24a50638-e4d4-46a6-b0a0-5fe7f2db12c6"
      },
      "cell_type": "code",
      "source": [
        "print(shape)"
      ],
      "execution_count": 8,
      "outputs": [
        {
          "output_type": "stream",
          "text": [
            "(4,)\n"
          ],
          "name": "stdout"
        }
      ]
    },
    {
      "metadata": {
        "id": "87UsyiwdAT_P",
        "colab_type": "code",
        "colab": {
          "base_uri": "https://localhost:8080/",
          "height": 36
        },
        "outputId": "dcd8a9c7-20ed-455f-8472-f20ec217411b"
      },
      "cell_type": "code",
      "source": [
        "print(rank)"
      ],
      "execution_count": 9,
      "outputs": [
        {
          "output_type": "stream",
          "text": [
            "1\n"
          ],
          "name": "stdout"
        }
      ]
    },
    {
      "metadata": {
        "id": "YCoAUTM6AWTH",
        "colab_type": "code",
        "colab": {
          "base_uri": "https://localhost:8080/",
          "height": 36
        },
        "outputId": "7e34f0c6-d9f3-4978-cd74-9765f9a83ad8"
      },
      "cell_type": "code",
      "source": [
        "print(tamanho)"
      ],
      "execution_count": 10,
      "outputs": [
        {
          "output_type": "stream",
          "text": [
            "4\n"
          ],
          "name": "stdout"
        }
      ]
    },
    {
      "metadata": {
        "id": "-YrI42ceAYGr",
        "colab_type": "code",
        "colab": {}
      },
      "cell_type": "code",
      "source": [
        "#Um array bidimensional (matriz):\n",
        "b = np.array([[1,2,3],[4,5,6]]) \n"
      ],
      "execution_count": 0,
      "outputs": []
    },
    {
      "metadata": {
        "id": "dvVoHwpMAvQK",
        "colab_type": "code",
        "colab": {}
      },
      "cell_type": "code",
      "source": [
        "#Que informaçao se pode obter sobre esse array:\n",
        "shape = b.shape\n",
        "rank = np.ndim(b)\n",
        "tamanho = a.size"
      ],
      "execution_count": 0,
      "outputs": []
    },
    {
      "metadata": {
        "id": "9vaTJaxNA9pk",
        "colab_type": "code",
        "colab": {
          "base_uri": "https://localhost:8080/",
          "height": 36
        },
        "outputId": "e59a258f-6b01-4acc-ab3b-c8079af212bc"
      },
      "cell_type": "code",
      "source": [
        "print(shape)"
      ],
      "execution_count": 14,
      "outputs": [
        {
          "output_type": "stream",
          "text": [
            "(2, 3)\n"
          ],
          "name": "stdout"
        }
      ]
    },
    {
      "metadata": {
        "id": "YfMgKqJKBJrT",
        "colab_type": "code",
        "colab": {
          "base_uri": "https://localhost:8080/",
          "height": 36
        },
        "outputId": "6b7a38ef-d2c7-4b48-b8dd-b3252b17549b"
      },
      "cell_type": "code",
      "source": [
        "print(rank)"
      ],
      "execution_count": 15,
      "outputs": [
        {
          "output_type": "stream",
          "text": [
            "2\n"
          ],
          "name": "stdout"
        }
      ]
    },
    {
      "metadata": {
        "id": "tx5dgfbbBq1A",
        "colab_type": "code",
        "colab": {
          "base_uri": "https://localhost:8080/",
          "height": 36
        },
        "outputId": "57681658-8cef-4a44-bb72-54f02e6f166b"
      },
      "cell_type": "code",
      "source": [
        "print(tamanho)"
      ],
      "execution_count": 16,
      "outputs": [
        {
          "output_type": "stream",
          "text": [
            "4\n"
          ],
          "name": "stdout"
        }
      ]
    },
    {
      "metadata": {
        "id": "17krvpd3Bw_y",
        "colab_type": "code",
        "colab": {
          "base_uri": "https://localhost:8080/",
          "height": 36
        },
        "outputId": "39d71cbd-bca6-4a39-9f44-f16a8a401192"
      },
      "cell_type": "code",
      "source": [
        "#Alterar valor a array:\n",
        "a[2]=50\n",
        "print(a)"
      ],
      "execution_count": 17,
      "outputs": [
        {
          "output_type": "stream",
          "text": [
            "[ 1  2 50  4]\n"
          ],
          "name": "stdout"
        }
      ]
    },
    {
      "metadata": {
        "id": "PWfRr_hXB6KF",
        "colab_type": "code",
        "colab": {
          "base_uri": "https://localhost:8080/",
          "height": 54
        },
        "outputId": "551598d5-7ff7-4918-cadc-a8940f153945"
      },
      "cell_type": "code",
      "source": [
        "#criar um array só com zeros\n",
        "\n",
        "a = np.zeros((2,2))   \n",
        "print(a) \n"
      ],
      "execution_count": 18,
      "outputs": [
        {
          "output_type": "stream",
          "text": [
            "[[0. 0.]\n",
            " [0. 0.]]\n"
          ],
          "name": "stdout"
        }
      ]
    },
    {
      "metadata": {
        "id": "qpOlFYt0CCP1",
        "colab_type": "code",
        "colab": {
          "base_uri": "https://localhost:8080/",
          "height": 36
        },
        "outputId": "b63eac57-1028-4bfd-e0f7-5ba7d9dd5c1c"
      },
      "cell_type": "code",
      "source": [
        "#Criar array só com uns\n",
        "\n",
        "b = np.ones((1,2))    \n",
        "print(b) \n"
      ],
      "execution_count": 19,
      "outputs": [
        {
          "output_type": "stream",
          "text": [
            "[[1. 1.]]\n"
          ],
          "name": "stdout"
        }
      ]
    },
    {
      "metadata": {
        "id": "iC9eL5hOCJbb",
        "colab_type": "code",
        "colab": {
          "base_uri": "https://localhost:8080/",
          "height": 73
        },
        "outputId": "1f30845e-ba43-423e-cb4c-b24bea79298d"
      },
      "cell_type": "code",
      "source": [
        "#criar matriz identidade 3x3\n",
        "\n",
        "d = np.eye(3)        \n",
        "print(d)\n"
      ],
      "execution_count": 20,
      "outputs": [
        {
          "output_type": "stream",
          "text": [
            "[[1. 0. 0.]\n",
            " [0. 1. 0.]\n",
            " [0. 0. 1.]]\n"
          ],
          "name": "stdout"
        }
      ]
    },
    {
      "metadata": {
        "id": "HxYrblpsCOm2",
        "colab_type": "code",
        "colab": {
          "base_uri": "https://localhost:8080/",
          "height": 92
        },
        "outputId": "f482afd2-45e0-40c7-9bd1-d3ad00410abf"
      },
      "cell_type": "code",
      "source": [
        "#Criar array preenchido com números aleatórios\n",
        "\n",
        "e = np.random.random((4,4))  \n",
        "print(e)                     \n"
      ],
      "execution_count": 21,
      "outputs": [
        {
          "output_type": "stream",
          "text": [
            "[[0.43328408 0.9861499  0.8815236  0.64102527]\n",
            " [0.02218057 0.01633686 0.31912856 0.47498102]\n",
            " [0.88543413 0.38508688 0.17297152 0.15338523]\n",
            " [0.08430867 0.72481275 0.371543   0.54251467]]\n"
          ],
          "name": "stdout"
        }
      ]
    },
    {
      "metadata": {
        "id": "ndcOm0aZCXal",
        "colab_type": "code",
        "colab": {
          "base_uri": "https://localhost:8080/",
          "height": 73
        },
        "outputId": "9383283f-ddc3-4894-b16d-0a6011800a3c"
      },
      "cell_type": "code",
      "source": [
        "a = np.array([[1,2,3,4], [5,6,7,8], [9,10,11,12]])\n",
        "print(a)\n"
      ],
      "execution_count": 22,
      "outputs": [
        {
          "output_type": "stream",
          "text": [
            "[[ 1  2  3  4]\n",
            " [ 5  6  7  8]\n",
            " [ 9 10 11 12]]\n"
          ],
          "name": "stdout"
        }
      ]
    },
    {
      "metadata": {
        "id": "H1TEKJvwCenS",
        "colab_type": "code",
        "colab": {
          "base_uri": "https://localhost:8080/",
          "height": 73
        },
        "outputId": "f6c775b3-5fdc-448a-e6dd-582d7735350c"
      },
      "cell_type": "code",
      "source": [
        "#fatiar (slicing) arrays\n",
        "#numero de linhas, numero de colunas\n",
        "#linha do inicio a 3, colunas a da 1 (segunda) até à 3\n",
        "\n",
        "b = a[:3, 1:3]\n",
        "\n",
        "print(b)\n"
      ],
      "execution_count": 30,
      "outputs": [
        {
          "output_type": "stream",
          "text": [
            "[[ 2  3]\n",
            " [ 6  7]\n",
            " [10 11]]\n"
          ],
          "name": "stdout"
        }
      ]
    },
    {
      "metadata": {
        "id": "VC7eIJynDF5I",
        "colab_type": "code",
        "colab": {}
      },
      "cell_type": "code",
      "source": [
        "b[0, 0] = 99 \n"
      ],
      "execution_count": 0,
      "outputs": []
    },
    {
      "metadata": {
        "id": "v6sAuet-DJaK",
        "colab_type": "code",
        "colab": {
          "base_uri": "https://localhost:8080/",
          "height": 73
        },
        "outputId": "a68f132a-5d3e-4236-b22f-5cfb2239fd52"
      },
      "cell_type": "code",
      "source": [
        "print(b)"
      ],
      "execution_count": 32,
      "outputs": [
        {
          "output_type": "stream",
          "text": [
            "[[99  3]\n",
            " [ 6  7]\n",
            " [10 11]]\n"
          ],
          "name": "stdout"
        }
      ]
    },
    {
      "metadata": {
        "id": "n1d3dnD1DVHw",
        "colab_type": "code",
        "colab": {
          "base_uri": "https://localhost:8080/",
          "height": 92
        },
        "outputId": "0a287a48-b44f-4668-8eae-f781ac36c863"
      },
      "cell_type": "code",
      "source": [
        "# Utilização de índices\n",
        "# criar um novo array \n",
        "a = np.array([[1,2,3], [4,5,6], [7,8,9], [10, 11, 12]])\n",
        "print(a)"
      ],
      "execution_count": 33,
      "outputs": [
        {
          "output_type": "stream",
          "text": [
            "[[ 1  2  3]\n",
            " [ 4  5  6]\n",
            " [ 7  8  9]\n",
            " [10 11 12]]\n"
          ],
          "name": "stdout"
        }
      ]
    },
    {
      "metadata": {
        "id": "nygyGvBVDcAT",
        "colab_type": "code",
        "colab": {}
      },
      "cell_type": "code",
      "source": [
        "#criar um array de indices\n",
        "\t\n",
        "\tb = np.array([0, 2, 0, 1])\n"
      ],
      "execution_count": 0,
      "outputs": []
    },
    {
      "metadata": {
        "id": "3nVaAxkxDx2I",
        "colab_type": "code",
        "colab": {
          "base_uri": "https://localhost:8080/",
          "height": 36
        },
        "outputId": "18a2e93f-3530-41ac-f822-b754d52d2a5b"
      },
      "cell_type": "code",
      "source": [
        "#Seleccionar um elemento de cada coluna usando os indices de b, isto é, selecciona:\n",
        "#o elemento com indice 0 na primeira linha\n",
        "#o elemento com indice 2 na segunda linha\n",
        "#o elemento com indice 0 na terceira linha\n",
        "#o elemento com idnice 1 na quarta linha\n",
        "\n",
        "print(a[np.arange(4), b])"
      ],
      "execution_count": 36,
      "outputs": [
        {
          "output_type": "stream",
          "text": [
            "[ 1  6  7 11]\n"
          ],
          "name": "stdout"
        }
      ]
    },
    {
      "metadata": {
        "id": "mhSU2v16EFPC",
        "colab_type": "code",
        "colab": {
          "base_uri": "https://localhost:8080/",
          "height": 92
        },
        "outputId": "e6535677-a21d-4a99-87f5-17818c3c60ca"
      },
      "cell_type": "code",
      "source": [
        "#Pode-se por exemplo mudar os elemento de cada coluna de acordo com o array de indices. \n",
        "#Por hipotese adicione-se 10, mas só aos valores encontrados\n",
        "\n",
        "a[np.arange(4), b] += 10\n",
        "\n",
        "print(a) "
      ],
      "execution_count": 37,
      "outputs": [
        {
          "output_type": "stream",
          "text": [
            "[[11  2  3]\n",
            " [ 4  5 16]\n",
            " [17  8  9]\n",
            " [10 21 12]]\n"
          ],
          "name": "stdout"
        }
      ]
    }
  ]
}
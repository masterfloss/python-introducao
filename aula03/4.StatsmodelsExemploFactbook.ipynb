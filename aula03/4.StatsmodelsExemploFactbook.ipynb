{
  "nbformat": 4,
  "nbformat_minor": 0,
  "metadata": {
    "colab": {
      "name": "3.StatsmodelsExemploFactbook.ipynb",
      "version": "0.3.2",
      "provenance": []
    },
    "kernelspec": {
      "name": "python3",
      "display_name": "Python 3"
    }
  },
  "cells": [
    {
      "metadata": {
        "id": "6LhIsBBwO0vV",
        "colab_type": "code",
        "colab": {}
      },
      "cell_type": "code",
      "source": [
        "# statsmodels é um módulo python \n",
        "# fornece classes e funções para a estimar de muitos modelos estatísticos\n",
        "# Permite ainda fazer testes estatísticos, e exploração de dados estatísticos. \n",
        "# Em algumas situações pode ser alternativa ao scikit-learn\n"
      ],
      "execution_count": 0,
      "outputs": []
    },
    {
      "metadata": {
        "id": "b2J-Rot0PH59",
        "colab_type": "code",
        "colab": {}
      },
      "cell_type": "code",
      "source": [
        ""
      ],
      "execution_count": 0,
      "outputs": []
    },
    {
      "metadata": {
        "id": "WHb6m-5WOkkv",
        "colab_type": "code",
        "colab": {}
      },
      "cell_type": "code",
      "source": [
        "import statsmodels.api as sm\n",
        "import pandas as pd\n",
        "df = pd.read_csv('factbook_sintese.csv')"
      ],
      "execution_count": 0,
      "outputs": []
    },
    {
      "metadata": {
        "id": "97F1FMHdPSvd",
        "colab_type": "code",
        "colab": {
          "base_uri": "https://localhost:8080/",
          "height": 128
        },
        "outputId": "30d3bb69-34ab-465c-d526-fe07493ae100"
      },
      "cell_type": "code",
      "source": [
        "df.dtypes"
      ],
      "execution_count": 5,
      "outputs": [
        {
          "output_type": "execute_result",
          "data": {
            "text/plain": [
              "Unnamed: 0                int64\n",
              "GDPpercapita            float64\n",
              "Military_percent_GDP    float64\n",
              "Unemployment rate(%)    float64\n",
              "internetpercapita       float64\n",
              "dtype: object"
            ]
          },
          "metadata": {
            "tags": []
          },
          "execution_count": 5
        }
      ]
    },
    {
      "metadata": {
        "id": "UnuRaKjDPcCo",
        "colab_type": "code",
        "colab": {}
      },
      "cell_type": "code",
      "source": [
        "Y=df[['internetpercapita']]\n",
        "X=df[['GDPpercapita','Military_percent_GDP','Unemployment rate(%)']]"
      ],
      "execution_count": 0,
      "outputs": []
    },
    {
      "metadata": {
        "id": "u7lHIDr_PBXz",
        "colab_type": "code",
        "colab": {}
      },
      "cell_type": "code",
      "source": [
        "#adicionar constante ao modelo\n",
        "# criar o modelo e fazer o respetivo ajustamento\n",
        "X=sm.add_constant(X)\n",
        "model = sm.OLS(Y,X).fit()\n",
        "\n"
      ],
      "execution_count": 0,
      "outputs": []
    },
    {
      "metadata": {
        "id": "F6ndzLz_RVTc",
        "colab_type": "code",
        "colab": {
          "base_uri": "https://localhost:8080/",
          "height": 425
        },
        "outputId": "6cfded56-3abe-46be-c54c-7a18c32b18c7"
      },
      "cell_type": "code",
      "source": [
        "#mostrar os resultados\n",
        "model.summary()\n"
      ],
      "execution_count": 12,
      "outputs": [
        {
          "output_type": "execute_result",
          "data": {
            "text/html": [
              "<table class=\"simpletable\">\n",
              "<caption>OLS Regression Results</caption>\n",
              "<tr>\n",
              "  <th>Dep. Variable:</th>    <td>internetpercapita</td> <th>  R-squared:         </th> <td>   0.750</td>\n",
              "</tr>\n",
              "<tr>\n",
              "  <th>Model:</th>                   <td>OLS</td>        <th>  Adj. R-squared:    </th> <td>   0.744</td>\n",
              "</tr>\n",
              "<tr>\n",
              "  <th>Method:</th>             <td>Least Squares</td>   <th>  F-statistic:       </th> <td>   130.8</td>\n",
              "</tr>\n",
              "<tr>\n",
              "  <th>Date:</th>             <td>Mon, 18 Mar 2019</td>  <th>  Prob (F-statistic):</th> <td>3.21e-39</td>\n",
              "</tr>\n",
              "<tr>\n",
              "  <th>Time:</th>                 <td>19:28:19</td>      <th>  Log-Likelihood:    </th> <td>  137.95</td>\n",
              "</tr>\n",
              "<tr>\n",
              "  <th>No. Observations:</th>      <td>   135</td>       <th>  AIC:               </th> <td>  -267.9</td>\n",
              "</tr>\n",
              "<tr>\n",
              "  <th>Df Residuals:</th>          <td>   131</td>       <th>  BIC:               </th> <td>  -256.3</td>\n",
              "</tr>\n",
              "<tr>\n",
              "  <th>Df Model:</th>              <td>     3</td>       <th>                     </th>     <td> </td>   \n",
              "</tr>\n",
              "<tr>\n",
              "  <th>Covariance Type:</th>      <td>nonrobust</td>     <th>                     </th>     <td> </td>   \n",
              "</tr>\n",
              "</table>\n",
              "<table class=\"simpletable\">\n",
              "<tr>\n",
              "            <td></td>              <th>coef</th>     <th>std err</th>      <th>t</th>      <th>P>|t|</th>  <th>[0.025</th>    <th>0.975]</th>  \n",
              "</tr>\n",
              "<tr>\n",
              "  <th>const</th>                <td>    0.0376</td> <td>    0.018</td> <td>    2.075</td> <td> 0.040</td> <td>    0.002</td> <td>    0.073</td>\n",
              "</tr>\n",
              "<tr>\n",
              "  <th>GDPpercapita</th>         <td> 1.284e-05</td> <td> 7.51e-07</td> <td>   17.090</td> <td> 0.000</td> <td> 1.14e-05</td> <td> 1.43e-05</td>\n",
              "</tr>\n",
              "<tr>\n",
              "  <th>Military_percent_GDP</th> <td>   -0.0046</td> <td>    0.003</td> <td>   -1.347</td> <td> 0.180</td> <td>   -0.011</td> <td>    0.002</td>\n",
              "</tr>\n",
              "<tr>\n",
              "  <th>Unemployment rate(%)</th> <td>   -0.0012</td> <td>    0.001</td> <td>   -2.045</td> <td> 0.043</td> <td>   -0.002</td> <td>-3.86e-05</td>\n",
              "</tr>\n",
              "</table>\n",
              "<table class=\"simpletable\">\n",
              "<tr>\n",
              "  <th>Omnibus:</th>       <td>25.005</td> <th>  Durbin-Watson:     </th> <td>   2.012</td>\n",
              "</tr>\n",
              "<tr>\n",
              "  <th>Prob(Omnibus):</th> <td> 0.000</td> <th>  Jarque-Bera (JB):  </th> <td> 178.303</td>\n",
              "</tr>\n",
              "<tr>\n",
              "  <th>Skew:</th>          <td> 0.100</td> <th>  Prob(JB):          </th> <td>1.91e-39</td>\n",
              "</tr>\n",
              "<tr>\n",
              "  <th>Kurtosis:</th>      <td> 8.627</td> <th>  Cond. No.          </th> <td>3.78e+04</td>\n",
              "</tr>\n",
              "</table>"
            ],
            "text/plain": [
              "<class 'statsmodels.iolib.summary.Summary'>\n",
              "\"\"\"\n",
              "                            OLS Regression Results                            \n",
              "==============================================================================\n",
              "Dep. Variable:      internetpercapita   R-squared:                       0.750\n",
              "Model:                            OLS   Adj. R-squared:                  0.744\n",
              "Method:                 Least Squares   F-statistic:                     130.8\n",
              "Date:                Mon, 18 Mar 2019   Prob (F-statistic):           3.21e-39\n",
              "Time:                        19:28:19   Log-Likelihood:                 137.95\n",
              "No. Observations:                 135   AIC:                            -267.9\n",
              "Df Residuals:                     131   BIC:                            -256.3\n",
              "Df Model:                           3                                         \n",
              "Covariance Type:            nonrobust                                         \n",
              "========================================================================================\n",
              "                           coef    std err          t      P>|t|      [0.025      0.975]\n",
              "----------------------------------------------------------------------------------------\n",
              "const                    0.0376      0.018      2.075      0.040       0.002       0.073\n",
              "GDPpercapita          1.284e-05   7.51e-07     17.090      0.000    1.14e-05    1.43e-05\n",
              "Military_percent_GDP    -0.0046      0.003     -1.347      0.180      -0.011       0.002\n",
              "Unemployment rate(%)    -0.0012      0.001     -2.045      0.043      -0.002   -3.86e-05\n",
              "==============================================================================\n",
              "Omnibus:                       25.005   Durbin-Watson:                   2.012\n",
              "Prob(Omnibus):                  0.000   Jarque-Bera (JB):              178.303\n",
              "Skew:                           0.100   Prob(JB):                     1.91e-39\n",
              "Kurtosis:                       8.627   Cond. No.                     3.78e+04\n",
              "==============================================================================\n",
              "\n",
              "Warnings:\n",
              "[1] Standard Errors assume that the covariance matrix of the errors is correctly specified.\n",
              "[2] The condition number is large, 3.78e+04. This might indicate that there are\n",
              "strong multicollinearity or other numerical problems.\n",
              "\"\"\""
            ]
          },
          "metadata": {
            "tags": []
          },
          "execution_count": 12
        }
      ]
    },
    {
      "metadata": {
        "id": "SchRL_sfRgZ-",
        "colab_type": "code",
        "colab": {}
      },
      "cell_type": "code",
      "source": [
        "\n",
        "\n"
      ],
      "execution_count": 0,
      "outputs": []
    }
  ]
}

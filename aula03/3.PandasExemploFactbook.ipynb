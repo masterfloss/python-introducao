{
  "nbformat": 4,
  "nbformat_minor": 0,
  "metadata": {
    "colab": {
      "name": "3.PandasExemploFactbook.ipynb",
      "version": "0.3.2",
      "provenance": []
    },
    "kernelspec": {
      "name": "python3",
      "display_name": "Python 3"
    }
  },
  "cells": [
    {
      "metadata": {
        "id": "PuhuGl3mHG-X",
        "colab_type": "code",
        "colab": {}
      },
      "cell_type": "code",
      "source": [
        "#from google.colab import files\n",
        "#files.upload()\n"
      ],
      "execution_count": 0,
      "outputs": []
    },
    {
      "metadata": {
        "id": "r1Tc5FeYHMo9",
        "colab_type": "code",
        "colab": {}
      },
      "cell_type": "code",
      "source": [
        "import pandas as pd\n",
        "df = pd.read_csv('factbook.csv')\n"
      ],
      "execution_count": 0,
      "outputs": []
    },
    {
      "metadata": {
        "id": "Tszh5sqXINq0",
        "colab_type": "code",
        "colab": {
          "base_uri": "https://localhost:8080/",
          "height": 325
        },
        "outputId": "4cc561ea-37fa-4708-8e2c-658556c6690f"
      },
      "cell_type": "code",
      "source": [
        "df.head()  \n"
      ],
      "execution_count": 9,
      "outputs": [
        {
          "output_type": "execute_result",
          "data": {
            "text/html": [
              "<div>\n",
              "<style scoped>\n",
              "    .dataframe tbody tr th:only-of-type {\n",
              "        vertical-align: middle;\n",
              "    }\n",
              "\n",
              "    .dataframe tbody tr th {\n",
              "        vertical-align: top;\n",
              "    }\n",
              "\n",
              "    .dataframe thead th {\n",
              "        text-align: right;\n",
              "    }\n",
              "</style>\n",
              "<table border=\"1\" class=\"dataframe\">\n",
              "  <thead>\n",
              "    <tr style=\"text-align: right;\">\n",
              "      <th></th>\n",
              "      <th>Country</th>\n",
              "      <th>Area_km2</th>\n",
              "      <th>Birth rate(births/1000 population)</th>\n",
              "      <th>Current account balance</th>\n",
              "      <th>Death rate(deaths/1000 population)</th>\n",
              "      <th>Debt - external</th>\n",
              "      <th>Electricity - consumption(kWh)</th>\n",
              "      <th>Electricity - production(kWh)</th>\n",
              "      <th>Exports</th>\n",
              "      <th>GDP</th>\n",
              "      <th>...</th>\n",
              "      <th>Oil - production(bbl/day)</th>\n",
              "      <th>Oil - proved reserves(bbl)</th>\n",
              "      <th>Population</th>\n",
              "      <th>Public debt(% of GDP)</th>\n",
              "      <th>Railways(km)</th>\n",
              "      <th>Reserves of foreign exchange &amp; gold</th>\n",
              "      <th>Telephones - main lines in use</th>\n",
              "      <th>Telephones - mobile cellular</th>\n",
              "      <th>Total fertility rate(children born/woman)</th>\n",
              "      <th>Unemployment rate(%)</th>\n",
              "    </tr>\n",
              "  </thead>\n",
              "  <tbody>\n",
              "    <tr>\n",
              "      <th>0</th>\n",
              "      <td>Afghanistan</td>\n",
              "      <td>647500</td>\n",
              "      <td>47.02</td>\n",
              "      <td>NaN</td>\n",
              "      <td>20.75</td>\n",
              "      <td>8.000000e+09</td>\n",
              "      <td>6.522000e+08</td>\n",
              "      <td>5.400000e+08</td>\n",
              "      <td>4.460000e+08</td>\n",
              "      <td>21500000000</td>\n",
              "      <td>...</td>\n",
              "      <td>0.0</td>\n",
              "      <td>0.000000e+00</td>\n",
              "      <td>29928987.0</td>\n",
              "      <td>NaN</td>\n",
              "      <td>NaN</td>\n",
              "      <td>NaN</td>\n",
              "      <td>33100.0</td>\n",
              "      <td>15000.0</td>\n",
              "      <td>6.75</td>\n",
              "      <td>NaN</td>\n",
              "    </tr>\n",
              "    <tr>\n",
              "      <th>1</th>\n",
              "      <td>Akrotiri</td>\n",
              "      <td>123</td>\n",
              "      <td>NaN</td>\n",
              "      <td>NaN</td>\n",
              "      <td>NaN</td>\n",
              "      <td>NaN</td>\n",
              "      <td>NaN</td>\n",
              "      <td>NaN</td>\n",
              "      <td>NaN</td>\n",
              "      <td>rrrrr</td>\n",
              "      <td>...</td>\n",
              "      <td>NaN</td>\n",
              "      <td>NaN</td>\n",
              "      <td>NaN</td>\n",
              "      <td>NaN</td>\n",
              "      <td>NaN</td>\n",
              "      <td>NaN</td>\n",
              "      <td>NaN</td>\n",
              "      <td>NaN</td>\n",
              "      <td>NaN</td>\n",
              "      <td>NaN</td>\n",
              "    </tr>\n",
              "    <tr>\n",
              "      <th>2</th>\n",
              "      <td>Albania</td>\n",
              "      <td>28748</td>\n",
              "      <td>15.08</td>\n",
              "      <td>-5.040000e+08</td>\n",
              "      <td>5.12</td>\n",
              "      <td>1.410000e+09</td>\n",
              "      <td>6.760000e+09</td>\n",
              "      <td>5.680000e+09</td>\n",
              "      <td>5.524000e+08</td>\n",
              "      <td>17460000000</td>\n",
              "      <td>...</td>\n",
              "      <td>2000.0</td>\n",
              "      <td>1.855000e+08</td>\n",
              "      <td>3563112.0</td>\n",
              "      <td>NaN</td>\n",
              "      <td>447.0</td>\n",
              "      <td>1.206000e+09</td>\n",
              "      <td>255000.0</td>\n",
              "      <td>1100000.0</td>\n",
              "      <td>2.04</td>\n",
              "      <td>14.8</td>\n",
              "    </tr>\n",
              "    <tr>\n",
              "      <th>3</th>\n",
              "      <td>Algeria</td>\n",
              "      <td>2381740</td>\n",
              "      <td>17.13</td>\n",
              "      <td>1.190000e+10</td>\n",
              "      <td>4.60</td>\n",
              "      <td>2.190000e+10</td>\n",
              "      <td>2.361000e+10</td>\n",
              "      <td>2.576000e+10</td>\n",
              "      <td>3.216000e+10</td>\n",
              "      <td>2.12E+11</td>\n",
              "      <td>...</td>\n",
              "      <td>1200000.0</td>\n",
              "      <td>1.187000e+10</td>\n",
              "      <td>32531853.0</td>\n",
              "      <td>37.4</td>\n",
              "      <td>3973.0</td>\n",
              "      <td>4.355000e+10</td>\n",
              "      <td>2199600.0</td>\n",
              "      <td>1447310.0</td>\n",
              "      <td>1.92</td>\n",
              "      <td>25.4</td>\n",
              "    </tr>\n",
              "    <tr>\n",
              "      <th>4</th>\n",
              "      <td>American Samoa</td>\n",
              "      <td>199</td>\n",
              "      <td>23.13</td>\n",
              "      <td>NaN</td>\n",
              "      <td>3.33</td>\n",
              "      <td>NaN</td>\n",
              "      <td>1.209000e+08</td>\n",
              "      <td>1.300000e+08</td>\n",
              "      <td>3.000000e+07</td>\n",
              "      <td>500000000</td>\n",
              "      <td>...</td>\n",
              "      <td>0.0</td>\n",
              "      <td>NaN</td>\n",
              "      <td>57881.0</td>\n",
              "      <td>NaN</td>\n",
              "      <td>NaN</td>\n",
              "      <td>NaN</td>\n",
              "      <td>15000.0</td>\n",
              "      <td>2377.0</td>\n",
              "      <td>3.25</td>\n",
              "      <td>6.0</td>\n",
              "    </tr>\n",
              "  </tbody>\n",
              "</table>\n",
              "<p>5 rows × 45 columns</p>\n",
              "</div>"
            ],
            "text/plain": [
              "          Country  Area_km2  Birth rate(births/1000 population)  \\\n",
              "0     Afghanistan    647500                               47.02   \n",
              "1        Akrotiri       123                                 NaN   \n",
              "2         Albania     28748                               15.08   \n",
              "3         Algeria   2381740                               17.13   \n",
              "4  American Samoa       199                               23.13   \n",
              "\n",
              "   Current account balance  Death rate(deaths/1000 population)  \\\n",
              "0                      NaN                               20.75   \n",
              "1                      NaN                                 NaN   \n",
              "2            -5.040000e+08                                5.12   \n",
              "3             1.190000e+10                                4.60   \n",
              "4                      NaN                                3.33   \n",
              "\n",
              "   Debt - external  Electricity - consumption(kWh)  \\\n",
              "0     8.000000e+09                    6.522000e+08   \n",
              "1              NaN                             NaN   \n",
              "2     1.410000e+09                    6.760000e+09   \n",
              "3     2.190000e+10                    2.361000e+10   \n",
              "4              NaN                    1.209000e+08   \n",
              "\n",
              "   Electricity - production(kWh)       Exports          GDP  \\\n",
              "0                   5.400000e+08  4.460000e+08  21500000000   \n",
              "1                            NaN           NaN        rrrrr   \n",
              "2                   5.680000e+09  5.524000e+08  17460000000   \n",
              "3                   2.576000e+10  3.216000e+10     2.12E+11   \n",
              "4                   1.300000e+08  3.000000e+07    500000000   \n",
              "\n",
              "           ...           Oil - production(bbl/day)  \\\n",
              "0          ...                                 0.0   \n",
              "1          ...                                 NaN   \n",
              "2          ...                              2000.0   \n",
              "3          ...                           1200000.0   \n",
              "4          ...                                 0.0   \n",
              "\n",
              "   Oil - proved reserves(bbl)  Population  Public debt(% of GDP)  \\\n",
              "0                0.000000e+00  29928987.0                    NaN   \n",
              "1                         NaN         NaN                    NaN   \n",
              "2                1.855000e+08   3563112.0                    NaN   \n",
              "3                1.187000e+10  32531853.0                   37.4   \n",
              "4                         NaN     57881.0                    NaN   \n",
              "\n",
              "   Railways(km)  Reserves of foreign exchange & gold  \\\n",
              "0           NaN                                  NaN   \n",
              "1           NaN                                  NaN   \n",
              "2         447.0                         1.206000e+09   \n",
              "3        3973.0                         4.355000e+10   \n",
              "4           NaN                                  NaN   \n",
              "\n",
              "   Telephones - main lines in use  Telephones - mobile cellular  \\\n",
              "0                         33100.0                       15000.0   \n",
              "1                             NaN                           NaN   \n",
              "2                        255000.0                     1100000.0   \n",
              "3                       2199600.0                     1447310.0   \n",
              "4                         15000.0                        2377.0   \n",
              "\n",
              "   Total fertility rate(children born/woman)  Unemployment rate(%)  \n",
              "0                                       6.75                   NaN  \n",
              "1                                        NaN                   NaN  \n",
              "2                                       2.04                  14.8  \n",
              "3                                       1.92                  25.4  \n",
              "4                                       3.25                   6.0  \n",
              "\n",
              "[5 rows x 45 columns]"
            ]
          },
          "metadata": {
            "tags": []
          },
          "execution_count": 9
        }
      ]
    },
    {
      "metadata": {
        "id": "vQ6fjuexId4q",
        "colab_type": "code",
        "colab": {
          "base_uri": "https://localhost:8080/",
          "height": 866
        },
        "outputId": "22f747cd-3f20-464f-914a-da86e3b2b493"
      },
      "cell_type": "code",
      "source": [
        "df.dtypes\n"
      ],
      "execution_count": 10,
      "outputs": [
        {
          "output_type": "execute_result",
          "data": {
            "text/plain": [
              "Country                                            object\n",
              "Area_km2                                            int64\n",
              "Birth rate(births/1000 population)                float64\n",
              "Current account balance                           float64\n",
              "Death rate(deaths/1000 population)                float64\n",
              "Debt - external                                   float64\n",
              "Electricity - consumption(kWh)                    float64\n",
              "Electricity - production(kWh)                     float64\n",
              "Exports                                           float64\n",
              "GDP                                                object\n",
              "GDPpercapita                                      float64\n",
              "GDP - real growth rate(%)                         float64\n",
              "HIV/AIDS - adult prevalence rate(%)               float64\n",
              "HIV/AIDS - deaths                                 float64\n",
              "HIV/AIDS - people living with HIV/AIDS            float64\n",
              "Highways(km)                                      float64\n",
              "Imports                                           float64\n",
              "Industrial production growth rate(%)              float64\n",
              "Infant mortality rate(deaths/1000 live births)    float64\n",
              "Inflation rate (consumer prices)(%)               float64\n",
              "Internet hosts                                    float64\n",
              "Internet users                                    float64\n",
              "Investment (gross fixed)(% of GDP)                float64\n",
              "Labor force                                       float64\n",
              "Life expectancy at birth(years)                   float64\n",
              "Military expenditures - dollar figure             float64\n",
              "Military_percent_GDP                              float64\n",
              "Natural gas - consumption(cu m)                   float64\n",
              "Natural gas - exports(cu m)                       float64\n",
              "Natural gas - imports(cu m)                       float64\n",
              "Natural gas - production(cu m)                    float64\n",
              "Natural gas - proved reserves(cu m)               float64\n",
              "Oil - consumption(bbl/day)                        float64\n",
              "Oil - exports(bbl/day)                            float64\n",
              "Oil - imports(bbl/day)                            float64\n",
              "Oil - production(bbl/day)                         float64\n",
              "Oil - proved reserves(bbl)                        float64\n",
              "Population                                        float64\n",
              "Public debt(% of GDP)                             float64\n",
              "Railways(km)                                      float64\n",
              "Reserves of foreign exchange & gold               float64\n",
              "Telephones - main lines in use                    float64\n",
              "Telephones - mobile cellular                      float64\n",
              "Total fertility rate(children born/woman)         float64\n",
              "Unemployment rate(%)                              float64\n",
              "dtype: object"
            ]
          },
          "metadata": {
            "tags": []
          },
          "execution_count": 10
        }
      ]
    },
    {
      "metadata": {
        "id": "aAuirOv0Iq-0",
        "colab_type": "code",
        "colab": {}
      },
      "cell_type": "code",
      "source": [
        "# O GDP deveria ser float64, no entanto deu object, logo tem que se converter.\n",
        "# Para tal utiliza-se o método \"to_numeric\" que converte p argumento para numérico.\n",
        "# pd.to_numeric(argmento, errors). Vai-se pegar em df['GDPpercapita'] e caso dê erro converte\n",
        "# para \"na\" (errors='coerce'). Entretanto o valor do GDO vai ser guardado no dataframe\n",
        "\n",
        "df.loc[:,'GDP']=pd.to_numeric(df['GDP'], errors='coerce')\n",
        "\n"
      ],
      "execution_count": 0,
      "outputs": []
    },
    {
      "metadata": {
        "id": "J0tGNtG3KC3k",
        "colab_type": "code",
        "colab": {
          "base_uri": "https://localhost:8080/",
          "height": 866
        },
        "outputId": "5330614e-2d2e-4429-e383-1c7457eb30b0"
      },
      "cell_type": "code",
      "source": [
        "df.dtypes"
      ],
      "execution_count": 13,
      "outputs": [
        {
          "output_type": "execute_result",
          "data": {
            "text/plain": [
              "Country                                            object\n",
              "Area_km2                                            int64\n",
              "Birth rate(births/1000 population)                float64\n",
              "Current account balance                           float64\n",
              "Death rate(deaths/1000 population)                float64\n",
              "Debt - external                                   float64\n",
              "Electricity - consumption(kWh)                    float64\n",
              "Electricity - production(kWh)                     float64\n",
              "Exports                                           float64\n",
              "GDP                                               float64\n",
              "GDPpercapita                                      float64\n",
              "GDP - real growth rate(%)                         float64\n",
              "HIV/AIDS - adult prevalence rate(%)               float64\n",
              "HIV/AIDS - deaths                                 float64\n",
              "HIV/AIDS - people living with HIV/AIDS            float64\n",
              "Highways(km)                                      float64\n",
              "Imports                                           float64\n",
              "Industrial production growth rate(%)              float64\n",
              "Infant mortality rate(deaths/1000 live births)    float64\n",
              "Inflation rate (consumer prices)(%)               float64\n",
              "Internet hosts                                    float64\n",
              "Internet users                                    float64\n",
              "Investment (gross fixed)(% of GDP)                float64\n",
              "Labor force                                       float64\n",
              "Life expectancy at birth(years)                   float64\n",
              "Military expenditures - dollar figure             float64\n",
              "Military_percent_GDP                              float64\n",
              "Natural gas - consumption(cu m)                   float64\n",
              "Natural gas - exports(cu m)                       float64\n",
              "Natural gas - imports(cu m)                       float64\n",
              "Natural gas - production(cu m)                    float64\n",
              "Natural gas - proved reserves(cu m)               float64\n",
              "Oil - consumption(bbl/day)                        float64\n",
              "Oil - exports(bbl/day)                            float64\n",
              "Oil - imports(bbl/day)                            float64\n",
              "Oil - production(bbl/day)                         float64\n",
              "Oil - proved reserves(bbl)                        float64\n",
              "Population                                        float64\n",
              "Public debt(% of GDP)                             float64\n",
              "Railways(km)                                      float64\n",
              "Reserves of foreign exchange & gold               float64\n",
              "Telephones - main lines in use                    float64\n",
              "Telephones - mobile cellular                      float64\n",
              "Total fertility rate(children born/woman)         float64\n",
              "Unemployment rate(%)                              float64\n",
              "dtype: object"
            ]
          },
          "metadata": {
            "tags": []
          },
          "execution_count": 13
        }
      ]
    },
    {
      "metadata": {
        "id": "E3wCMcP2LVK8",
        "colab_type": "code",
        "colab": {}
      },
      "cell_type": "code",
      "source": [
        "#criação de nova variavel\n",
        "df['internetpercapita']=df['Internet users']/df['Population']"
      ],
      "execution_count": 0,
      "outputs": []
    },
    {
      "metadata": {
        "id": "Z5X8WjNyKMyU",
        "colab_type": "code",
        "colab": {}
      },
      "cell_type": "code",
      "source": [
        "#criar dataframe em que as colunas têm todas as variáveis dependentes e\n",
        "# independentes do modelo\n",
        "\n",
        "YX = df[['GDPpercapita','Military_percent_GDP','Unemployment rate(%)','internetpercapita']]\n"
      ],
      "execution_count": 0,
      "outputs": []
    },
    {
      "metadata": {
        "id": "ZPRvM459K5im",
        "colab_type": "code",
        "colab": {}
      },
      "cell_type": "code",
      "source": [
        "#eliminam-se os valroes nulos\n",
        "YX=YX.dropna()\n"
      ],
      "execution_count": 0,
      "outputs": []
    },
    {
      "metadata": {
        "id": "ny2YGCjmLBAJ",
        "colab_type": "code",
        "colab": {}
      },
      "cell_type": "code",
      "source": [
        "#cria-se o modelo\n",
        "Y = YX[['internetpercapita']]\n",
        "X = YX[['GDPpercapita','Unemployment rate(%)','Military_percent_GDP']]\n",
        "\n",
        "\n"
      ],
      "execution_count": 0,
      "outputs": []
    },
    {
      "metadata": {
        "id": "ZDcQynjeMbJc",
        "colab_type": "code",
        "colab": {
          "base_uri": "https://localhost:8080/",
          "height": 109
        },
        "outputId": "bdd691fb-489d-4a4d-e2d7-14e5ca9e3a13"
      },
      "cell_type": "code",
      "source": [
        "#Soma dos valores de um DataFrame\n",
        "YX.sum()/1000\n"
      ],
      "execution_count": 21,
      "outputs": [
        {
          "output_type": "execute_result",
          "data": {
            "text/plain": [
              "GDPpercapita            1524.035000\n",
              "Military_percent_GDP       0.346250\n",
              "Unemployment rate(%)       2.043900\n",
              "internetpercapita          0.020593\n",
              "dtype: float64"
            ]
          },
          "metadata": {
            "tags": []
          },
          "execution_count": 21
        }
      ]
    },
    {
      "metadata": {
        "id": "jeriz0ZhMoou",
        "colab_type": "code",
        "colab": {
          "base_uri": "https://localhost:8080/",
          "height": 109
        },
        "outputId": "eaba9a94-942f-4dea-e8ed-2818d08eecc0"
      },
      "cell_type": "code",
      "source": [
        "\n",
        "#Maior valor\n",
        "YX.max()"
      ],
      "execution_count": 22,
      "outputs": [
        {
          "output_type": "execute_result",
          "data": {
            "text/plain": [
              "GDPpercapita            58900.000000\n",
              "Military_percent_GDP       14.600000\n",
              "Unemployment rate(%)       85.000000\n",
              "internetpercapita           0.603437\n",
              "dtype: float64"
            ]
          },
          "metadata": {
            "tags": []
          },
          "execution_count": 22
        }
      ]
    },
    {
      "metadata": {
        "id": "xGXzdV0kMwX0",
        "colab_type": "code",
        "colab": {
          "base_uri": "https://localhost:8080/",
          "height": 109
        },
        "outputId": "7049e052-79c6-44ae-9680-de5fb0f864af"
      },
      "cell_type": "code",
      "source": [
        "#valor minimo\n",
        "YX.min()"
      ],
      "execution_count": 27,
      "outputs": [
        {
          "output_type": "execute_result",
          "data": {
            "text/plain": [
              "GDPpercapita            700.000000\n",
              "Military_percent_GDP      0.110000\n",
              "Unemployment rate(%)      0.600000\n",
              "internetpercapita         0.000287\n",
              "dtype: float64"
            ]
          },
          "metadata": {
            "tags": []
          },
          "execution_count": 27
        }
      ]
    },
    {
      "metadata": {
        "id": "npSn75pVNK3G",
        "colab_type": "code",
        "colab": {
          "base_uri": "https://localhost:8080/",
          "height": 109
        },
        "outputId": "feb3d6f7-b114-41da-dba8-694d25df598d"
      },
      "cell_type": "code",
      "source": [
        "#Média dos valores\n",
        "YX.mean()\n"
      ],
      "execution_count": 28,
      "outputs": [
        {
          "output_type": "execute_result",
          "data": {
            "text/plain": [
              "GDPpercapita            11289.148148\n",
              "Military_percent_GDP        2.564815\n",
              "Unemployment rate(%)       15.140000\n",
              "internetpercapita           0.152540\n",
              "dtype: float64"
            ]
          },
          "metadata": {
            "tags": []
          },
          "execution_count": 28
        }
      ]
    },
    {
      "metadata": {
        "id": "Zo3SxaEON5PP",
        "colab_type": "code",
        "colab": {
          "base_uri": "https://localhost:8080/",
          "height": 109
        },
        "outputId": "a45d7acd-4913-47ec-bf6d-a519b9e2ae45"
      },
      "cell_type": "code",
      "source": [
        "#Mediana dos valores\n",
        "YX.median()"
      ],
      "execution_count": 29,
      "outputs": [
        {
          "output_type": "execute_result",
          "data": {
            "text/plain": [
              "GDPpercapita            6700.000000\n",
              "Military_percent_GDP       1.900000\n",
              "Unemployment rate(%)      10.400000\n",
              "internetpercapita          0.063607\n",
              "dtype: float64"
            ]
          },
          "metadata": {
            "tags": []
          },
          "execution_count": 29
        }
      ]
    },
    {
      "metadata": {
        "id": "8DilBVQyOHJO",
        "colab_type": "code",
        "colab": {}
      },
      "cell_type": "code",
      "source": [
        "YX.to_csv('factbook_sintese.csv')"
      ],
      "execution_count": 0,
      "outputs": []
    }
  ]
}
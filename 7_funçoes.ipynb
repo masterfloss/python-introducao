{
  "nbformat": 4,
  "nbformat_minor": 0,
  "metadata": {
    "colab": {
      "name": "7.funçoes.ipynb",
      "version": "0.3.2",
      "provenance": [],
      "include_colab_link": true
    },
    "kernelspec": {
      "name": "python3",
      "display_name": "Python 3"
    }
  },
  "cells": [
    {
      "cell_type": "markdown",
      "metadata": {
        "id": "view-in-github",
        "colab_type": "text"
      },
      "source": [
        "<a href=\"https://colab.research.google.com/github/masterfloss/python-introducao/blob/master/7_fun%C3%A7oes.ipynb\" target=\"_parent\"><img src=\"https://colab.research.google.com/assets/colab-badge.svg\" alt=\"Open In Colab\"/></a>"
      ]
    },
    {
      "metadata": {
        "id": "fELFkLnY2HVM",
        "colab_type": "code",
        "colab": {}
      },
      "cell_type": "code",
      "source": [
        "# Funções são blocos de Código a que se atribuiu um nome sendo concebidos para realizar um objective especifico\n",
        "# A informação passada a uma função é um arguemento\n",
        "# A informação recebida pela função é um parâmetro\n"
      ],
      "execution_count": 0,
      "outputs": []
    },
    {
      "metadata": {
        "id": "uYVfNyZW2SgJ",
        "colab_type": "code",
        "colab": {}
      },
      "cell_type": "code",
      "source": [
        "# Função simplificada\n",
        "def saudar():\n",
        "  # Saudar\n",
        "  print (\"Olá!\")\n",
        "\n"
      ],
      "execution_count": 0,
      "outputs": []
    },
    {
      "metadata": {
        "id": "fYtI1D212UBH",
        "colab_type": "code",
        "colab": {
          "base_uri": "https://localhost:8080/",
          "height": 36
        },
        "outputId": "3c145118-24d4-45d6-a90e-f9dae4705202"
      },
      "cell_type": "code",
      "source": [
        "# Para invocar a função, chama-se pelo nome:\n",
        "saudar()"
      ],
      "execution_count": 4,
      "outputs": [
        {
          "output_type": "stream",
          "text": [
            "Olá!\n"
          ],
          "name": "stdout"
        }
      ]
    },
    {
      "metadata": {
        "id": "bRJYX3nS2hhJ",
        "colab_type": "code",
        "colab": {}
      },
      "cell_type": "code",
      "source": [
        "# Para que a função tenha maior utilizadade há necessidade de passar argumentos\n",
        "# passagem de argumento\n",
        "def saudar_utilizador(nome):\n",
        "  \"\"\"Mostrar uma mensagem personalizada.\"\"\"\n",
        "  print (\"Olá, \" + nome +\"!\")\n"
      ],
      "execution_count": 0,
      "outputs": []
    },
    {
      "metadata": {
        "id": "KE4Dgc-J2osh",
        "colab_type": "code",
        "colab": {
          "base_uri": "https://localhost:8080/",
          "height": 36
        },
        "outputId": "943d25f7-dc9c-4f94-a942-373d32c22c79"
      },
      "cell_type": "code",
      "source": [
        "\n",
        "# Exemplo de invocação\n",
        "saudar_utilizador(\"João\")"
      ],
      "execution_count": 6,
      "outputs": [
        {
          "output_type": "stream",
          "text": [
            "Olá, João!\n"
          ],
          "name": "stdout"
        }
      ]
    },
    {
      "metadata": {
        "id": "edqIv2v12wNZ",
        "colab_type": "code",
        "colab": {}
      },
      "cell_type": "code",
      "source": [
        "#Podemos ter parâmetro por omissão\n",
        "#passagem de argumento \n",
        "def saudar_utilizador(nome='Zézinho'):\n",
        "  \"\"\"Mostrar uma mensagem personalizada.\"\"\"\n",
        "  print (\"Olá, \" + nome +\"!\")\n",
        "\n"
      ],
      "execution_count": 0,
      "outputs": []
    },
    {
      "metadata": {
        "id": "K3RHRnfF2zCX",
        "colab_type": "code",
        "colab": {
          "base_uri": "https://localhost:8080/",
          "height": 36
        },
        "outputId": "878c6dff-3cbf-4359-88b8-7bb33a1f45ba"
      },
      "cell_type": "code",
      "source": [
        "saudar_utilizador()\n"
      ],
      "execution_count": 8,
      "outputs": [
        {
          "output_type": "stream",
          "text": [
            "Olá, Zézinho!\n"
          ],
          "name": "stdout"
        }
      ]
    },
    {
      "metadata": {
        "id": "OPIQvHmZ20co",
        "colab_type": "code",
        "colab": {
          "base_uri": "https://localhost:8080/",
          "height": 36
        },
        "outputId": "8f5ec032-bf2e-4f21-aea9-a9de8b746f9d"
      },
      "cell_type": "code",
      "source": [
        "saudar_utilizador(\"João\")"
      ],
      "execution_count": 9,
      "outputs": [
        {
          "output_type": "stream",
          "text": [
            "Olá, João!\n"
          ],
          "name": "stdout"
        }
      ]
    },
    {
      "metadata": {
        "id": "m6mCPcJ924ty",
        "colab_type": "code",
        "colab": {}
      },
      "cell_type": "code",
      "source": [
        "# Retornar um valor\n",
        "\n",
        "def adicionar_valores(x,y):\n",
        "  \"\"\"recebe dois valores e retorna a soma.\"\"\"\n",
        "  return x+y\n",
        "\n",
        "\n"
      ],
      "execution_count": 0,
      "outputs": []
    },
    {
      "metadata": {
        "id": "zngo_XiZ27xR",
        "colab_type": "code",
        "colab": {
          "base_uri": "https://localhost:8080/",
          "height": 36
        },
        "outputId": "11659f8e-c260-4fec-e8f3-74aa9773b2f8"
      },
      "cell_type": "code",
      "source": [
        "soma = adicionar_valores(3,5)\n",
        "print (soma)"
      ],
      "execution_count": 11,
      "outputs": [
        {
          "output_type": "stream",
          "text": [
            "8\n"
          ],
          "name": "stdout"
        }
      ]
    },
    {
      "metadata": {
        "id": "eEkgNIMW3AxQ",
        "colab_type": "code",
        "colab": {}
      },
      "cell_type": "code",
      "source": [
        "#Soma com valores por omissão\n",
        "def adicionar_valores(x=0,y=0,z=0):\n",
        "  \"\"\" adiciona vários valores e retorna a soma.\"\"\"\n",
        "  return x+y+z\n",
        "\n",
        "\n"
      ],
      "execution_count": 0,
      "outputs": []
    },
    {
      "metadata": {
        "id": "3Fo8Fe3t3ESY",
        "colab_type": "code",
        "colab": {
          "base_uri": "https://localhost:8080/",
          "height": 36
        },
        "outputId": "435eec30-03f0-4704-890c-0a9fec496630"
      },
      "cell_type": "code",
      "source": [
        "soma =adicionar_valores(3,4)\n",
        "print(soma)"
      ],
      "execution_count": 13,
      "outputs": [
        {
          "output_type": "stream",
          "text": [
            "7\n"
          ],
          "name": "stdout"
        }
      ]
    }
  ]
}
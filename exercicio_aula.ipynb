{
  "nbformat": 4,
  "nbformat_minor": 0,
  "metadata": {
    "colab": {
      "name": "exercicio_aula.ipynb",
      "version": "0.3.2",
      "provenance": [],
      "include_colab_link": true
    },
    "kernelspec": {
      "name": "python3",
      "display_name": "Python 3"
    }
  },
  "cells": [
    {
      "cell_type": "markdown",
      "metadata": {
        "id": "view-in-github",
        "colab_type": "text"
      },
      "source": [
        "<a href=\"https://colab.research.google.com/github/masterfloss/python-introducao/blob/master/exercicio_aula.ipynb\" target=\"_parent\"><img src=\"https://colab.research.google.com/assets/colab-badge.svg\" alt=\"Open In Colab\"/></a>"
      ]
    },
    {
      "cell_type": "code",
      "metadata": {
        "id": "8O0zYmjTzEUk",
        "colab_type": "code",
        "outputId": "760771dd-bba1-4d0f-9788-0829853f066e",
        "colab": {
          "base_uri": "https://localhost:8080/",
          "height": 72
        }
      },
      "source": [
        "nome = input(\"Como te chamas?\")\n",
        "idade = input(\"Qual a tua idade?\")\n",
        "resposta = nome +\" \"+idade+\" \"+\"anos\"\n",
        "print(resposta)"
      ],
      "execution_count": 0,
      "outputs": [
        {
          "output_type": "stream",
          "text": [
            "Como te chamas?Miguel\n",
            "Qual a tua idade?23\n",
            "Miguel 23 anos\n"
          ],
          "name": "stdout"
        }
      ]
    },
    {
      "cell_type": "code",
      "metadata": {
        "id": "Q5FpQ6eB41bm",
        "colab_type": "code",
        "outputId": "3c441ae8-c860-459d-e6ac-14d408602bf9",
        "colab": {
          "base_uri": "https://localhost:8080/",
          "height": 109
        }
      },
      "source": [
        "nome =input(\"Por favor, ensira o seu nome\")\n",
        "resposta = \"Nome:\" + nome\n",
        "print(resposta)\n",
        "idade = input(\"Por favor, ensira a sua idade\")\n",
        "resposta = \"Idade:\" + idade\n",
        "print(resposta)\n",
        "idade1= int(idade)\n",
        "nascimento= \"Nasceste no ano de \" + str(2019-idade1)\n",
        "print(nascimento)"
      ],
      "execution_count": 0,
      "outputs": [
        {
          "output_type": "stream",
          "text": [
            "Por favor, ensira o seu nomeRodrigo\n",
            "Nome:Rodrigo\n",
            "Por favor, ensira a sua idade21\n",
            "Idade:21\n",
            "Nasceste no ano de 1998\n"
          ],
          "name": "stdout"
        }
      ]
    },
    {
      "cell_type": "code",
      "metadata": {
        "id": "hkrs0K7L6xhf",
        "colab_type": "code",
        "colab": {}
      },
      "source": [
        "import datetime\n",
        "\n"
      ],
      "execution_count": 0,
      "outputs": []
    },
    {
      "cell_type": "code",
      "metadata": {
        "id": "pC96NlZ06--x",
        "colab_type": "code",
        "outputId": "0845830f-e2b6-4b5d-e1a7-00f80cb1b195",
        "colab": {
          "base_uri": "https://localhost:8080/",
          "height": 72
        }
      },
      "source": [
        "nome = input('nome')\n",
        "idade = input('idade')\n",
        "data = datetime.datetime.now()\n",
        "print (data.year - int(idade))"
      ],
      "execution_count": 0,
      "outputs": [
        {
          "output_type": "stream",
          "text": [
            "nomea\n",
            "idade5\n",
            "2014\n"
          ],
          "name": "stdout"
        }
      ]
    },
    {
      "cell_type": "code",
      "metadata": {
        "id": "1L3jkznj70gU",
        "colab_type": "code",
        "outputId": "c2c40a0a-fcad-4c14-add4-fb5b75e6a227",
        "colab": {
          "base_uri": "https://localhost:8080/",
          "height": 35
        }
      },
      "source": [
        "data = datetime.datetime.now()\n",
        "print(data)"
      ],
      "execution_count": 0,
      "outputs": [
        {
          "output_type": "stream",
          "text": [
            "2019-04-30 11:09:32.462156\n"
          ],
          "name": "stdout"
        }
      ]
    },
    {
      "cell_type": "markdown",
      "metadata": {
        "id": "YM_tWZiM7zey",
        "colab_type": "text"
      },
      "source": [
        ""
      ]
    },
    {
      "cell_type": "code",
      "metadata": {
        "id": "7jb96APf8itp",
        "colab_type": "code",
        "outputId": "0ea2447d-92fc-4055-abaa-89146ff000bd",
        "colab": {
          "base_uri": "https://localhost:8080/",
          "height": 54
        }
      },
      "source": [
        "numero=input(\"Escreve um numero\")\n",
        "num1=int(numero)\n",
        "if num1%2==0:\n",
        "  print(\"é par\")\n",
        "else:\n",
        "  print(\"é impar\")"
      ],
      "execution_count": 0,
      "outputs": [
        {
          "output_type": "stream",
          "text": [
            "Escreve um numero2\n",
            "é par\n"
          ],
          "name": "stdout"
        }
      ]
    },
    {
      "cell_type": "code",
      "metadata": {
        "id": "8QYWqQTg-hem",
        "colab_type": "code",
        "outputId": "a4403bc5-30f3-41d5-fa16-feae59ad632b",
        "colab": {
          "base_uri": "https://localhost:8080/",
          "height": 54
        }
      },
      "source": [
        "num = int(input(\"Escolha um número para dividir: \"))\n",
        "\n",
        "listRange = list(range(1, num+1))\n",
        "\n",
        "divisorList =[]\n",
        "\n",
        "for number in listRange:\n",
        "  if num % number == 0:\n",
        "    divisorList.append(number)\n",
        "    \n",
        "print(divisorList)"
      ],
      "execution_count": 0,
      "outputs": [
        {
          "output_type": "stream",
          "text": [
            "Escolha um número para dividir: 20\n",
            "[1, 2, 4, 5, 10, 20]\n"
          ],
          "name": "stdout"
        }
      ]
    },
    {
      "cell_type": "code",
      "metadata": {
        "id": "1VWXJXsXCRTV",
        "colab_type": "code",
        "colab": {}
      },
      "source": [
        ""
      ],
      "execution_count": 0,
      "outputs": []
    },
    {
      "cell_type": "code",
      "metadata": {
        "id": "kdZDjESX_tnP",
        "colab_type": "code",
        "outputId": "aa735fda-ecce-4d3e-f2d2-e6ec6b72708b",
        "colab": {
          "base_uri": "https://localhost:8080/",
          "height": 109
        }
      },
      "source": [
        "\n",
        "num = 15\n",
        "listRange = list(range(1, num+1))\n",
        "print(listRange)\n",
        "\n",
        "for number in listRange:\n",
        "  if num % number == 0:\n",
        "    print(number)\n",
        "    \n"
      ],
      "execution_count": 0,
      "outputs": [
        {
          "output_type": "stream",
          "text": [
            "[1, 2, 3, 4, 5, 6, 7, 8, 9, 10, 11, 12, 13, 14, 15]\n",
            "1\n",
            "3\n",
            "5\n",
            "15\n"
          ],
          "name": "stdout"
        }
      ]
    },
    {
      "cell_type": "code",
      "metadata": {
        "id": "z_REOmlDCSR9",
        "colab_type": "code",
        "colab": {}
      },
      "source": [
        "def variaveis(x,y,z):\n",
        "  if x>=y and x>=z :\n",
        "    return x\n",
        "  elif y>=x and y>=z:\n",
        "    return y \n",
        "  elif z>=x and z>=y:\n",
        "    return z"
      ],
      "execution_count": 0,
      "outputs": []
    },
    {
      "cell_type": "code",
      "metadata": {
        "id": "OhrkegnHCs1x",
        "colab_type": "code",
        "outputId": "05367fec-6f7b-4dbe-d56c-854aebd39f08",
        "colab": {
          "base_uri": "https://localhost:8080/",
          "height": 35
        }
      },
      "source": [
        "variaveis(10,3,5)\n"
      ],
      "execution_count": 0,
      "outputs": [
        {
          "output_type": "execute_result",
          "data": {
            "text/plain": [
              "10"
            ]
          },
          "metadata": {
            "tags": []
          },
          "execution_count": 26
        }
      ]
    },
    {
      "cell_type": "code",
      "metadata": {
        "id": "h677jCFsC7J3",
        "colab_type": "code",
        "outputId": "eac7861d-ffd8-4674-9f24-f9feb5cfcfa9",
        "colab": {
          "base_uri": "https://localhost:8080/",
          "height": 35
        }
      },
      "source": [
        "variaveis(5,5,5)\n"
      ],
      "execution_count": 0,
      "outputs": [
        {
          "output_type": "execute_result",
          "data": {
            "text/plain": [
              "5"
            ]
          },
          "metadata": {
            "tags": []
          },
          "execution_count": 27
        }
      ]
    },
    {
      "cell_type": "code",
      "metadata": {
        "id": "H4FX0SCaC9vZ",
        "colab_type": "code",
        "colab": {}
      },
      "source": [
        "variaveis(5,5,5)\n",
        "variaveis(10,10,9)\n"
      ],
      "execution_count": 0,
      "outputs": []
    },
    {
      "cell_type": "code",
      "metadata": {
        "id": "pSPIQa9SDEm3",
        "colab_type": "code",
        "colab": {}
      },
      "source": [
        "def variaveis2(x,y,z):\n",
        "  if x>=y and x>=z :\n",
        "    return x\n",
        "  elif y>=x and y>=z:\n",
        "    return y \n",
        "  else:\n",
        "    return z"
      ],
      "execution_count": 0,
      "outputs": []
    },
    {
      "cell_type": "code",
      "metadata": {
        "id": "dGdBnem6DIV6",
        "colab_type": "code",
        "outputId": "612c516e-e51e-4059-86a0-841c5522885c",
        "colab": {
          "base_uri": "https://localhost:8080/",
          "height": 35
        }
      },
      "source": [
        "print(variaveis2(3,6,9))"
      ],
      "execution_count": 0,
      "outputs": [
        {
          "output_type": "execute_result",
          "data": {
            "text/plain": [
              "9"
            ]
          },
          "metadata": {
            "tags": []
          },
          "execution_count": 30
        }
      ]
    },
    {
      "cell_type": "markdown",
      "metadata": {
        "id": "MoTQJhos-hMS",
        "colab_type": "text"
      },
      "source": [
        ""
      ]
    },
    {
      "cell_type": "code",
      "metadata": {
        "id": "4ib8mUYbIz7u",
        "colab_type": "code",
        "outputId": "4b5be754-2492-4db2-d73a-98337d23f153",
        "colab": {
          "base_uri": "https://localhost:8080/",
          "height": 35
        }
      },
      "source": [
        "def Z(listA,b):\n",
        "  for x in listA:\n",
        "    if x == b:\n",
        "      return True\n",
        "  return False\n",
        "\n",
        "Z([1,2,3,4,5], 4)"
      ],
      "execution_count": 0,
      "outputs": [
        {
          "output_type": "execute_result",
          "data": {
            "text/plain": [
              "True"
            ]
          },
          "metadata": {
            "tags": []
          },
          "execution_count": 35
        }
      ]
    },
    {
      "cell_type": "code",
      "metadata": {
        "id": "loXaTxr4L3cB",
        "colab_type": "code",
        "colab": {}
      },
      "source": [
        "def noDuplicate(oldList):\n",
        "  newList = list(dict.fromkeys(oldList))\n",
        "  return newList\n",
        "\n"
      ],
      "execution_count": 0,
      "outputs": []
    },
    {
      "cell_type": "code",
      "metadata": {
        "id": "8KF_hfBXNBZN",
        "colab_type": "code",
        "outputId": "5e91241d-cd8a-472d-fc60-7861b72b62fc",
        "colab": {
          "base_uri": "https://localhost:8080/",
          "height": 35
        }
      },
      "source": [
        "mylist = [1,2,3,2,4,4,5]\n",
        "print(noDuplicate(mylist))"
      ],
      "execution_count": 0,
      "outputs": [
        {
          "output_type": "stream",
          "text": [
            "[1, 2, 3, 4, 5]\n"
          ],
          "name": "stdout"
        }
      ]
    },
    {
      "cell_type": "code",
      "metadata": {
        "id": "udk8x5InNbVX",
        "colab_type": "code",
        "outputId": "ce7cd524-521c-43ba-8b8d-54f6873947da",
        "colab": {
          "base_uri": "https://localhost:8080/",
          "height": 35
        }
      },
      "source": [
        "def noDuplicateA(a):\n",
        "  \n",
        "  newList=[]\n",
        "  \n",
        "  for i in a:\n",
        "    if i not in newList:\n",
        "      newList.append(i)\n",
        "  return newList\n",
        "\n",
        "noDuplicateA([1,2,2,3,3,4,4,5,6,7,7,])\n"
      ],
      "execution_count": 0,
      "outputs": [
        {
          "output_type": "execute_result",
          "data": {
            "text/plain": [
              "[1, 2, 3, 4, 5, 6, 7]"
            ]
          },
          "metadata": {
            "tags": []
          },
          "execution_count": 42
        }
      ]
    },
    {
      "cell_type": "code",
      "metadata": {
        "id": "3Py_KnM2NbX7",
        "colab_type": "code",
        "outputId": "a4d6e4a5-d9fe-4768-e341-2c335fa98d0e",
        "colab": {
          "base_uri": "https://localhost:8080/",
          "height": 35
        }
      },
      "source": [
        "def noDuplicateB(oldList):\n",
        "  return list(set(oldList))\n",
        "\n",
        "noDuplicateB([1,2,2,3,3,4,4,5,6,7,7,])"
      ],
      "execution_count": 0,
      "outputs": [
        {
          "output_type": "execute_result",
          "data": {
            "text/plain": [
              "[1, 2, 3, 4, 5, 6, 7]"
            ]
          },
          "metadata": {
            "tags": []
          },
          "execution_count": 44
        }
      ]
    },
    {
      "cell_type": "code",
      "metadata": {
        "id": "Dm88yyWBQdRW",
        "colab_type": "code",
        "outputId": "d600bf78-ee9e-48d3-cccb-92c2ada000ae",
        "colab": {
          "base_uri": "https://localhost:8080/",
          "height": 35
        }
      },
      "source": [
        "def isEvenNum(listA):\n",
        "  enum = []\n",
        "  for n in listA:\n",
        "    if n % 2 ==0:\n",
        "      enum.append(n)\n",
        "  return enum\n",
        "\n",
        "print(isEvenNum([2,3,8,15,25,36,45,64,88,99]))"
      ],
      "execution_count": 0,
      "outputs": [
        {
          "output_type": "stream",
          "text": [
            "[2, 8, 36, 64, 88]\n"
          ],
          "name": "stdout"
        }
      ]
    },
    {
      "cell_type": "code",
      "metadata": {
        "id": "-tpAXkz0SyMY",
        "colab_type": "code",
        "colab": {}
      },
      "source": [
        "class Person:\n",
        "  def __init__(self, name, age):\n",
        "    self.name = name\n",
        "    self.age = age\n",
        "  def speak(self):\n",
        "    print(\"My name is \" + self.name + \" and I'm \" + str(self.age))\n",
        "  def speak1(self):\n",
        "    return \"My name is \" + self.name + \" and I'm \" + str(self.age)"
      ],
      "execution_count": 0,
      "outputs": []
    },
    {
      "cell_type": "code",
      "metadata": {
        "id": "uNCyhiTmTb0C",
        "colab_type": "code",
        "outputId": "387a2703-3ebe-4fe0-99af-acf9147d5974",
        "colab": {
          "base_uri": "https://localhost:8080/",
          "height": 35
        }
      },
      "source": [
        "Paulo = Person(\"Paulo\", 21)\n",
        "Paulo.speak1()"
      ],
      "execution_count": 0,
      "outputs": [
        {
          "output_type": "execute_result",
          "data": {
            "text/plain": [
              "\"My name is Paulo and I'm 21\""
            ]
          },
          "metadata": {
            "tags": []
          },
          "execution_count": 56
        }
      ]
    },
    {
      "cell_type": "code",
      "metadata": {
        "id": "ktwgZEIAXZY9",
        "colab_type": "code",
        "colab": {}
      },
      "source": [
        "class Student(Person):\n",
        "  def __init__(self, name, age,subject):\n",
        "    Person.__init__(self, name, age)\n",
        "    self.subject = subject\n",
        "  def study(self):\n",
        "    return self.subject"
      ],
      "execution_count": 0,
      "outputs": []
    },
    {
      "cell_type": "code",
      "metadata": {
        "id": "GwgGdFILYBIF",
        "colab_type": "code",
        "outputId": "f6b25618-de9c-42bd-a1e4-5e35963b95fc",
        "colab": {
          "base_uri": "https://localhost:8080/",
          "height": 35
        }
      },
      "source": [
        "joao = Student(\"João\",23,\"Economics\")\n",
        "joao.study()"
      ],
      "execution_count": 0,
      "outputs": [
        {
          "output_type": "execute_result",
          "data": {
            "text/plain": [
              "'Economics'"
            ]
          },
          "metadata": {
            "tags": []
          },
          "execution_count": 59
        }
      ]
    }
  ]
}
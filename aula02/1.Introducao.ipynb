{
 "cells": [
  {
   "cell_type": "code",
   "execution_count": 0,
   "metadata": {
    "colab": {
     "base_uri": "https://localhost:8080/",
     "height": 36
    },
    "colab_type": "code",
    "id": "arCS7FhooG5h",
    "outputId": "5b3548bd-3c9d-443b-f9ca-a54f50caa482"
   },
   "outputs": [
    {
     "name": "stdout",
     "output_type": "stream",
     "text": [
      "Olá Mundo!\n"
     ]
    }
   ],
   "source": [
    "#As variáveis são utilizadas para guardar valores. \n",
    "#Um string é uma série de caracters, com aspas ou plicas\n",
    "#Olá Mundo \n",
    "\n",
    "print(\"Olá Mundo!\")"
   ]
  },
  {
   "cell_type": "code",
   "execution_count": 0,
   "metadata": {
    "colab": {},
    "colab_type": "code",
    "id": "FKxOMgWioOKB"
   },
   "outputs": [],
   "source": [
    "# Existem 4 tipos numéricos: \n",
    "# - inteiro (int)\n",
    "# - virgula flutuante (float)\n",
    "# - booleano (bool)\n",
    "# - complexo (complex)\n"
   ]
  },
  {
   "cell_type": "code",
   "execution_count": 0,
   "metadata": {
    "colab": {},
    "colab_type": "code",
    "id": "OG_zqYFmoda9"
   },
   "outputs": [],
   "source": [
    "# 4 Operações Ariméticas  básicas:\n",
    "# +, -, *, /\n",
    "# Resto da divisão:\n",
    "# %, \n",
    "# Potência\n",
    "# **\n",
    "# Outras operações\n",
    "# +=, -=, *=, /=, %=, **=\n"
   ]
  },
  {
   "cell_type": "code",
   "execution_count": 0,
   "metadata": {
    "colab": {},
    "colab_type": "code",
    "id": "PAyPNwduoonF"
   },
   "outputs": [],
   "source": [
    "#Operações de comparação\n",
    "#>\n",
    "#< \n",
    "#==\n",
    "# >=\n",
    "# <= \n",
    "#<>, !=\n",
    "# is\n",
    "# in"
   ]
  },
  {
   "cell_type": "code",
   "execution_count": 0,
   "metadata": {
    "colab": {},
    "colab_type": "code",
    "id": "j-xK2CLxo9a7"
   },
   "outputs": [],
   "source": [
    "#Operadores lógicos:\n",
    "#and\n",
    "#or\n",
    "#not\n",
    "#Operador de atribuição\n",
    "#="
   ]
  },
  {
   "cell_type": "code",
   "execution_count": 0,
   "metadata": {
    "colab": {},
    "colab_type": "code",
    "id": "4qtg6Gg7pEhc"
   },
   "outputs": [],
   "source": [
    "#Substituição\n",
    "#\t%\n",
    "# Exemplo:\n",
    "#\tprint (\"Hoje é %02d/%02d/%03d\" % (26, 2, 2019))\n",
    "#Concatenação\n",
    "#\t+\n",
    "#Tipo de dados\n",
    "#  Type(a)\n"
   ]
  },
  {
   "cell_type": "code",
   "execution_count": 0,
   "metadata": {
    "colab": {},
    "colab_type": "code",
    "id": "_Uy41Jr9pXUr"
   },
   "outputs": [],
   "source": [
    "#Operações com Strings\n",
    "#Tamanho do string em caracteres\n",
    "#  len(a)\n",
    "#Minusculas\n",
    "#  a.lower()\n",
    "#Maúsculas\n",
    "#  a.upper()\n",
    "#Eliminar espaços\n",
    "#  a.strip()\n",
    "#Subtituir caracteres\n",
    "#  a.replace(“M\", “B\")\n"
   ]
  },
  {
   "cell_type": "code",
   "execution_count": 0,
   "metadata": {
    "colab": {},
    "colab_type": "code",
    "id": "n8pF_6b9pj5b"
   },
   "outputs": [],
   "source": [
    "#Estruturas de Controlo"
   ]
  },
  {
   "cell_type": "code",
   "execution_count": 0,
   "metadata": {
    "colab": {},
    "colab_type": "code",
    "id": "CQLr5OgrprOE"
   },
   "outputs": [],
   "source": [
    "# Sequenciação\n",
    "# Decisão\n",
    "# Repetição"
   ]
  },
  {
   "cell_type": "code",
   "execution_count": 0,
   "metadata": {
    "colab": {
     "base_uri": "https://localhost:8080/",
     "height": 36
    },
    "colab_type": "code",
    "id": "IzrFGfEFp0OF",
    "outputId": "b9806ec8-a727-463f-fb19-313ae945cf12"
   },
   "outputs": [
    {
     "name": "stdout",
     "output_type": "stream",
     "text": [
      "Podes votar!\n"
     ]
    }
   ],
   "source": [
    "# Um simples if\n",
    "idade=23\n",
    "if idade >= 18: \n",
    "\tprint(\"Podes votar!\") \n",
    "\n"
   ]
  },
  {
   "cell_type": "code",
   "execution_count": 0,
   "metadata": {
    "colab": {},
    "colab_type": "code",
    "id": "PrN_mBaZqCd1"
   },
   "outputs": [],
   "source": [
    "#Declaração If-elif-else\n",
    "if idade < 3: \n",
    "\tpreco_bilhete= 0 \n",
    "elif idade < 18: \n",
    "\tpreco_bilhete = 5 \n",
    "else: preco_bilhete = 10\n"
   ]
  },
  {
   "cell_type": "code",
   "execution_count": 0,
   "metadata": {
    "colab": {
     "base_uri": "https://localhost:8080/",
     "height": 111
    },
    "colab_type": "code",
    "id": "bihGirFJre7l",
    "outputId": "b91bcff7-7d93-48aa-8dc8-fed3b7f01dd0"
   },
   "outputs": [
    {
     "name": "stdout",
     "output_type": "stream",
     "text": [
      "1\n",
      "2\n",
      "3\n",
      "4\n",
      "5\n"
     ]
    }
   ],
   "source": [
    "# Repetição\n",
    "# Um simples loop while\n",
    "valor_atual= 1 \n",
    "while valor_atual <= 5: \n",
    "\tprint(valor_atual) \n",
    "\tvalor_atual += 1\n"
   ]
  },
  {
   "cell_type": "code",
   "execution_count": 0,
   "metadata": {
    "colab": {},
    "colab_type": "code",
    "id": "kGzCWJ19rmul"
   },
   "outputs": [],
   "source": [
    "# O ciclo termina como resultado do \n",
    "# valor introduzido pelo utilizador\n",
    "\n",
    "msg = ''\n",
    "while msg != 'sair': \n",
    "\tmsg = input(\"Qual a tua mensagem? \") \n",
    "\tprint(msg)\n"
   ]
  }
 ],
 "metadata": {
  "colab": {
   "name": "1.Introducao.ipynb",
   "provenance": [],
   "version": "0.3.2"
  },
  "kernelspec": {
   "display_name": "Python 3",
   "language": "python",
   "name": "python3"
  },
  "language_info": {
   "codemirror_mode": {
    "name": "ipython",
    "version": 3
   },
   "file_extension": ".py",
   "mimetype": "text/x-python",
   "name": "python",
   "nbconvert_exporter": "python",
   "pygments_lexer": "ipython3",
   "version": "3.7.0"
  }
 },
 "nbformat": 4,
 "nbformat_minor": 1
}


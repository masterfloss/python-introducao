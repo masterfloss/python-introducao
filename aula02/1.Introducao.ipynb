{
  "nbformat": 4,
  "nbformat_minor": 0,
  "metadata": {
    "colab": {
      "name": "1.Introducao.ipynb",
      "version": "0.3.2",
      "provenance": []
    },
    "kernelspec": {
      "name": "python3",
      "display_name": "Python 3"
    }
  },
  "cells": [
    {
      "metadata": {
        "id": "arCS7FhooG5h",
        "colab_type": "code",
        "outputId": "5b3548bd-3c9d-443b-f9ca-a54f50caa482",
        "colab": {
          "base_uri": "https://localhost:8080/",
          "height": 36
        }
      },
      "cell_type": "code",
      "source": [
        "#As variáveis são utilizadas para guardar valores. \n",
        "#Um string é uma série de caracters, com aspas ou plicas\n",
        "#Olá Mundo \n",
        "\n",
        "print(\"Olá Mundo!\")"
      ],
      "execution_count": 0,
      "outputs": [
        {
          "output_type": "stream",
          "text": [
            "Olá Mundo!\n"
          ],
          "name": "stdout"
        }
      ]
    },
    {
      "metadata": {
        "id": "FKxOMgWioOKB",
        "colab_type": "code",
        "colab": {}
      },
      "cell_type": "code",
      "source": [
        "# Existem 4 tipos numéricos: \n",
        "# - inteiro (int)\n",
        "# - virgula flutuante (float)\n",
        "# - booleano (bool)\n",
        "# - complexo (complex)\n"
      ],
      "execution_count": 0,
      "outputs": []
    },
    {
      "metadata": {
        "id": "OG_zqYFmoda9",
        "colab_type": "code",
        "colab": {}
      },
      "cell_type": "code",
      "source": [
        "# 4 Operações Ariméticas  básicas:\n",
        "# +, -, *, /\n",
        "# Resto da divisão:\n",
        "# %, \n",
        "# Potência\n",
        "# **\n",
        "# Outras operações\n",
        "# +=, -=, *=, /=, %=, **=\n"
      ],
      "execution_count": 0,
      "outputs": []
    },
    {
      "metadata": {
        "id": "PAyPNwduoonF",
        "colab_type": "code",
        "colab": {}
      },
      "cell_type": "code",
      "source": [
        "#Operações de comparação\n",
        "#>\n",
        "#< \n",
        "#==\n",
        "# >=\n",
        "# <= \n",
        "#<>, !=\n",
        "# is\n",
        "# in"
      ],
      "execution_count": 0,
      "outputs": []
    },
    {
      "metadata": {
        "id": "j-xK2CLxo9a7",
        "colab_type": "code",
        "colab": {}
      },
      "cell_type": "code",
      "source": [
        "#Operadores lógicos:\n",
        "#and\n",
        "#or\n",
        "#not\n",
        "#Operador de atribuição\n",
        "#="
      ],
      "execution_count": 0,
      "outputs": []
    },
    {
      "metadata": {
        "id": "4qtg6Gg7pEhc",
        "colab_type": "code",
        "colab": {}
      },
      "cell_type": "code",
      "source": [
        "#Substituição\n",
        "#\t%\n",
        "# Exemplo:\n",
        "#\tprint (\"Hoje é %02d/%02d/%03d\" % (26, 2, 2019))\n",
        "#Concatenação\n",
        "#\t+\n",
        "#Tipo de dados\n",
        "#  Type(a)\n"
      ],
      "execution_count": 0,
      "outputs": []
    },
    {
      "metadata": {
        "id": "_Uy41Jr9pXUr",
        "colab_type": "code",
        "colab": {}
      },
      "cell_type": "code",
      "source": [
        "#Operações com Strings\n",
        "#Tamanho do string em caracteres\n",
        "#  len(a)\n",
        "#Minusculas\n",
        "#  a.lower()\n",
        "#Maúsculas\n",
        "#  a.upper()\n",
        "#Eliminar espaços\n",
        "#  a.strip()\n",
        "#Subtituir caracteres\n",
        "#  a.replace(“M\", “B\")\n"
      ],
      "execution_count": 0,
      "outputs": []
    },
    {
      "metadata": {
        "id": "n8pF_6b9pj5b",
        "colab_type": "code",
        "colab": {}
      },
      "cell_type": "code",
      "source": [
        "#Estruturas de Controlo"
      ],
      "execution_count": 0,
      "outputs": []
    },
    {
      "metadata": {
        "id": "CQLr5OgrprOE",
        "colab_type": "code",
        "colab": {}
      },
      "cell_type": "code",
      "source": [
        "# Sequenciação\n",
        "# Decisão\n",
        "# Repetição"
      ],
      "execution_count": 0,
      "outputs": []
    },
    {
      "metadata": {
        "id": "IzrFGfEFp0OF",
        "colab_type": "code",
        "outputId": "b9806ec8-a727-463f-fb19-313ae945cf12",
        "colab": {
          "base_uri": "https://localhost:8080/",
          "height": 36
        }
      },
      "cell_type": "code",
      "source": [
        "# Um simples if\n",
        "idade=23\n",
        "if idade >= 18: \n",
        "\tprint(\"Podes votar!\") \n",
        "\n"
      ],
      "execution_count": 0,
      "outputs": [
        {
          "output_type": "stream",
          "text": [
            "Podes votar!\n"
          ],
          "name": "stdout"
        }
      ]
    },
    {
      "metadata": {
        "id": "PrN_mBaZqCd1",
        "colab_type": "code",
        "colab": {}
      },
      "cell_type": "code",
      "source": [
        "#Declaração If-elif-else\n",
        "if idade < 3: \n",
        "\tpreco_bilhete= 0 \n",
        "elif idade < 18: \n",
        "\tpreco_bilhete = 5 \n",
        "else: preco_bilhete = 10\n"
      ],
      "execution_count": 0,
      "outputs": []
    },
    {
      "metadata": {
        "id": "bihGirFJre7l",
        "colab_type": "code",
        "outputId": "b91bcff7-7d93-48aa-8dc8-fed3b7f01dd0",
        "colab": {
          "base_uri": "https://localhost:8080/",
          "height": 111
        }
      },
      "cell_type": "code",
      "source": [
        "# Repetição\n",
        "# Um simples loop while\n",
        "valor_atual= 1 \n",
        "while valor_atual <= 5: \n",
        "\tprint(valor_atual) \n",
        "\tvalor_atual += 1\n"
      ],
      "execution_count": 0,
      "outputs": [
        {
          "output_type": "stream",
          "text": [
            "1\n",
            "2\n",
            "3\n",
            "4\n",
            "5\n"
          ],
          "name": "stdout"
        }
      ]
    },
    {
      "metadata": {
        "id": "kGzCWJ19rmul",
        "colab_type": "code",
        "colab": {}
      },
      "cell_type": "code",
      "source": [
        "# O ciclo termina como resultado do \n",
        "# valor introduzido pelo utilizador\n",
        "\n",
        "msg = ''\n",
        "while msg != 'sair': \n",
        "\tmsg = input(“Qual a tua mensagem? \") \n",
        "\tprint(msg)\n"
      ],
      "execution_count": 0,
      "outputs": []
    }
  ]
}

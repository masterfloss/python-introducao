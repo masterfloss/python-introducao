{
 "cells": [
  {
   "cell_type": "code",
   "execution_count": 19,
   "metadata": {
    "colab": {},
    "colab_type": "code",
    "id": "ncVNkVoPOY2x"
   },
   "outputs": [],
   "source": [
    "import numpy as np\n",
    "import pandas as pd\n",
    "import networkx as nx\n",
    "import matplotlib.pyplot as plt"
   ]
  },
  {
   "cell_type": "code",
   "execution_count": 20,
   "metadata": {
    "colab": {},
    "colab_type": "code",
    "id": "ALKzmUtdOmj6"
   },
   "outputs": [],
   "source": [
    "G = nx.read_edgelist(\"parte1\")"
   ]
  },
  {
   "cell_type": "code",
   "execution_count": 21,
   "metadata": {},
   "outputs": [
    {
     "data": {
      "image/png": "[encoded data removed]",
      "text/plain": [
       "<Figure size 432x288 with 1 Axes>"
      ]
     },
     "metadata": {},
     "output_type": "display_data"
    }
   ],
   "source": []
  },
  {
   "cell_type": "code",
   "execution_count": 7,
   "metadata": {
    "colab": {
     "base_uri": "https://localhost:8080/",
     "height": 35
    },
    "colab_type": "code",
    "executionInfo": {
     "elapsed": 598,
     "status": "ok",
     "timestamp": 1545957247716,
     "user": {
      "displayName": "Carlos J. Costa",
      "photoUrl": "https://lh4.googleusercontent.com/-L5jq9UnytCE/AAAAAAAAAAI/AAAAAAAAAAc/U4zy7w6afhw/s64/photo.jpg",
      "userId": "12357503072279650791"
     },
     "user_tz": 0
    },
    "id": "-v7A_AskO2rq",
    "outputId": "880f53f2-b1a6-46e1-b34a-854350c468a4"
   },
   "outputs": [
    {
     "data": {
      "text/plain": [
       "EdgeView([('Alice', 'Mary'), ('Mary', 'John'), ('Mary', 'Steven'), ('Mary', 'Edward')])"
      ]
     },
     "execution_count": 7,
     "metadata": {},
     "output_type": "execute_result"
    }
   ],
   "source": [
    "G.edges"
   ]
  },
  {
   "cell_type": "code",
   "execution_count": 8,
   "metadata": {
    "colab": {
     "base_uri": "https://localhost:8080/",
     "height": 336
    },
    "colab_type": "code",
    "executionInfo": {
     "elapsed": 665,
     "status": "ok",
     "timestamp": 1545957309843,
     "user": {
      "displayName": "Carlos J. Costa",
      "photoUrl": "https://lh4.googleusercontent.com/-L5jq9UnytCE/AAAAAAAAAAI/AAAAAAAAAAc/U4zy7w6afhw/s64/photo.jpg",
      "userId": "12357503072279650791"
     },
     "user_tz": 0
    },
    "id": "_5dD_5ibO3fP",
    "outputId": "2425dac2-a8cd-423e-b676-7911d70f6d4e"
   },
   "outputs": [
    {
     "data": {
      "image/png": "[encoded data removed]",
      "text/plain": [
       "<Figure size 432x288 with 1 Axes>"
      ]
     },
     "metadata": {},
     "output_type": "display_data"
    }
   ],
   "source": [
    "# atribuir pesos aos arcos\n",
    "\n",
    "G.add_edge('Mary','Steven', weight=500)\n",
    "G.add_edge('John','Mary', weight=10)\n",
    "G.add_edge('Mary','Alice', weight=200)\n",
    "#nx.draw(G, with_labels=True)\n",
    "\n",
    "nx.draw(G, pos=None, arrows=True, with_labels=True)\n"
   ]
  },
  {
   "cell_type": "code",
   "execution_count": 9,
   "metadata": {
    "colab": {
     "base_uri": "https://localhost:8080/",
     "height": 35
    },
    "colab_type": "code",
    "executionInfo": {
     "elapsed": 564,
     "status": "ok",
     "timestamp": 1545957441784,
     "user": {
      "displayName": "Carlos J. Costa",
      "photoUrl": "https://lh4.googleusercontent.com/-L5jq9UnytCE/AAAAAAAAAAI/AAAAAAAAAAc/U4zy7w6afhw/s64/photo.jpg",
      "userId": "12357503072279650791"
     },
     "user_tz": 0
    },
    "id": "0NqQSc3LPbWl",
    "outputId": "2636d2aa-82bf-425f-fe25-8e69a7e74c16"
   },
   "outputs": [
    {
     "data": {
      "text/plain": [
       "{'weight': 500}"
      ]
     },
     "execution_count": 9,
     "metadata": {},
     "output_type": "execute_result"
    }
   ],
   "source": [
    "# Acesso aos pesos do arcos\n",
    "G['Mary']['Steven']"
   ]
  },
  {
   "cell_type": "code",
   "execution_count": 10,
   "metadata": {
    "colab": {},
    "colab_type": "code",
    "id": "GqvYEILMPwBD"
   },
   "outputs": [],
   "source": [
    "# alterar peso de arco\n",
    "G['Mary']['Steven']['weight'] = 6"
   ]
  },
  {
   "cell_type": "code",
   "execution_count": 11,
   "metadata": {
    "colab": {},
    "colab_type": "code",
    "id": "EbE7jxC9P_O6"
   },
   "outputs": [],
   "source": [
    "#criar nova rede, desta vez direcionada\n",
    "dg = nx.DiGraph()"
   ]
  },
  {
   "cell_type": "code",
   "execution_count": 12,
   "metadata": {
    "colab": {
     "base_uri": "https://localhost:8080/",
     "height": 35
    },
    "colab_type": "code",
    "executionInfo": {
     "elapsed": 610,
     "status": "ok",
     "timestamp": 1545957678738,
     "user": {
      "displayName": "Carlos J. Costa",
      "photoUrl": "https://lh4.googleusercontent.com/-L5jq9UnytCE/AAAAAAAAAAI/AAAAAAAAAAc/U4zy7w6afhw/s64/photo.jpg",
      "userId": "12357503072279650791"
     },
     "user_tz": 0
    },
    "id": "K6b5_YZIQZ2A",
    "outputId": "ac1a1adf-7878-4fc0-def8-5c3579969f2c"
   },
   "outputs": [
    {
     "data": {
      "text/plain": [
       "<networkx.classes.graphviews.GraphView at 0x16533261b70>"
      ]
     },
     "execution_count": 12,
     "metadata": {},
     "output_type": "execute_result"
    }
   ],
   "source": [
    "# pode-se criar uma representação não direccionada da rede G\n",
    "nx.to_undirected(G)"
   ]
  },
  {
   "cell_type": "code",
   "execution_count": 13,
   "metadata": {
    "colab": {
     "base_uri": "https://localhost:8080/",
     "height": 35
    },
    "colab_type": "code",
    "executionInfo": {
     "elapsed": 599,
     "status": "ok",
     "timestamp": 1545957771476,
     "user": {
      "displayName": "Carlos J. Costa",
      "photoUrl": "https://lh4.googleusercontent.com/-L5jq9UnytCE/AAAAAAAAAAI/AAAAAAAAAAc/U4zy7w6afhw/s64/photo.jpg",
      "userId": "12357503072279650791"
     },
     "user_tz": 0
    },
    "id": "AOVTJoc-Qot8",
    "outputId": "4917069a-29c5-4c77-89c1-e89acb553c12"
   },
   "outputs": [
    {
     "data": {
      "text/plain": [
       "<networkx.classes.graphviews.DiGraphView at 0x1653327ae80>"
      ]
     },
     "execution_count": 13,
     "metadata": {},
     "output_type": "execute_result"
    }
   ],
   "source": [
    "# pode-se criar uma representação direcionada da rede G \n",
    "nx.to_directed(G)"
   ]
  },
  {
   "cell_type": "code",
   "execution_count": 14,
   "metadata": {
    "colab": {},
    "colab_type": "code",
    "id": "ibs0BgYnQ9HZ"
   },
   "outputs": [],
   "source": [
    "# multigraphs pode guardar diversos informações com diferentes propriedades sobre os mesmos arcos \n",
    "MG = nx.MultiGraph()\n",
    "MG.add_weighted_edges_from([(1, 2, 3.0), (1, 2, 75), (2, 3, 5)])"
   ]
  },
  {
   "cell_type": "code",
   "execution_count": 15,
   "metadata": {
    "colab": {
     "base_uri": "https://localhost:8080/",
     "height": 35
    },
    "colab_type": "code",
    "executionInfo": {
     "elapsed": 584,
     "status": "ok",
     "timestamp": 1545957917032,
     "user": {
      "displayName": "Carlos J. Costa",
      "photoUrl": "https://lh4.googleusercontent.com/-L5jq9UnytCE/AAAAAAAAAAI/AAAAAAAAAAc/U4zy7w6afhw/s64/photo.jpg",
      "userId": "12357503072279650791"
     },
     "user_tz": 0
    },
    "id": "eNEd24PgRT1D",
    "outputId": "b825ac4b-2f38-4d1c-af50-6015c09a6ba6"
   },
   "outputs": [
    {
     "data": {
      "text/plain": [
       "MultiEdgeView([(1, 2, 0), (1, 2, 1), (2, 3, 0)])"
      ]
     },
     "execution_count": 15,
     "metadata": {},
     "output_type": "execute_result"
    }
   ],
   "source": [
    "# mostrar arcos sem pesos\n",
    "MG.edges"
   ]
  },
  {
   "cell_type": "code",
   "execution_count": 16,
   "metadata": {
    "colab": {
     "base_uri": "https://localhost:8080/",
     "height": 35
    },
    "colab_type": "code",
    "executionInfo": {
     "elapsed": 581,
     "status": "ok",
     "timestamp": 1545958000682,
     "user": {
      "displayName": "Carlos J. Costa",
      "photoUrl": "https://lh4.googleusercontent.com/-L5jq9UnytCE/AAAAAAAAAAI/AAAAAAAAAAc/U4zy7w6afhw/s64/photo.jpg",
      "userId": "12357503072279650791"
     },
     "user_tz": 0
    },
    "id": "-woeTw7-RqCT",
    "outputId": "938e57fe-7e92-4165-b850-d2844bcff4cc"
   },
   "outputs": [
    {
     "data": {
      "text/plain": [
       "MultiEdgeDataView([(1, 2, 3.0), (1, 2, 75), (2, 3, 5)])"
      ]
     },
     "execution_count": 16,
     "metadata": {},
     "output_type": "execute_result"
    }
   ],
   "source": [
    "# mostrar dados de arcos com pesos\n",
    "MG.edges.data('weight', default=1)"
   ]
  },
  {
   "cell_type": "code",
   "execution_count": 17,
   "metadata": {
    "colab": {
     "base_uri": "https://localhost:8080/",
     "height": 35
    },
    "colab_type": "code",
    "executionInfo": {
     "elapsed": 600,
     "status": "ok",
     "timestamp": 1545958083671,
     "user": {
      "displayName": "Carlos J. Costa",
      "photoUrl": "https://lh4.googleusercontent.com/-L5jq9UnytCE/AAAAAAAAAAI/AAAAAAAAAAc/U4zy7w6afhw/s64/photo.jpg",
      "userId": "12357503072279650791"
     },
     "user_tz": 0
    },
    "id": "B6wSv2WRR_Ir",
    "outputId": "425769d3-336a-4096-e9b2-881e0e3e081c"
   },
   "outputs": [
    {
     "data": {
      "text/plain": [
       "AtlasView({0: {'weight': 3.0}, 1: {'weight': 75}})"
      ]
     },
     "execution_count": 17,
     "metadata": {},
     "output_type": "execute_result"
    }
   ],
   "source": [
    "# verificar o peso de um arco\n",
    "MG[1][2]"
   ]
  },
  {
   "cell_type": "code",
   "execution_count": 18,
   "metadata": {
    "colab": {},
    "colab_type": "code",
    "id": "OdC7LmPzSRtr"
   },
   "outputs": [],
   "source": [
    "#gravar arcos com pesos\n",
    "nx.write_weighted_edgelist(G,\"parte2\")"
   ]
  },
  {
   "cell_type": "code",
   "execution_count": null,
   "metadata": {},
   "outputs": [],
   "source": []
  }
 ],
 "metadata": {
  "colab": {
   "collapsed_sections": [],
   "name": "2.Tipos de Redes.ipynb",
   "provenance": [],
   "version": "0.3.2"
  },
  "kernelspec": {
   "display_name": "Python 3",
   "language": "python",
   "name": "python3"
  },
  "language_info": {
   "codemirror_mode": {
    "name": "ipython",
    "version": 3
   },
   "file_extension": ".py",
   "mimetype": "text/x-python",
   "name": "python",
   "nbconvert_exporter": "python",
   "pygments_lexer": "ipython3",
   "version": "3.7.0"
  }
 },
 "nbformat": 4,
 "nbformat_minor": 1
}

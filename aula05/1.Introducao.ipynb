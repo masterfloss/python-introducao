{
 "cells": [
  {
   "cell_type": "code",
   "execution_count": 1,
   "metadata": {
    "colab": {},
    "colab_type": "code",
    "id": "ndQSlKpXJwnx"
   },
   "outputs": [],
   "source": [
    "import numpy as np\n",
    "import pandas as pd\n",
    "import networkx as nx\n",
    "import matplotlib.pyplot as plt"
   ]
  },
  {
   "cell_type": "code",
   "execution_count": 2,
   "metadata": {
    "colab": {},
    "colab_type": "code",
    "id": "5cmKMo7lJ4Th"
   },
   "outputs": [],
   "source": [
    "# criar uma rede sem elementos\n",
    "G = nx.Graph()"
   ]
  },
  {
   "cell_type": "code",
   "execution_count": 3,
   "metadata": {
    "colab": {},
    "colab_type": "code",
    "id": "QLckMXzMJ-Lh"
   },
   "outputs": [],
   "source": [
    "# adicionar um nó\n",
    "G.add_node('Mary')"
   ]
  },
  {
   "cell_type": "code",
   "execution_count": 4,
   "metadata": {
    "colab": {},
    "colab_type": "code",
    "id": "CsIBUWywKEgX"
   },
   "outputs": [],
   "source": [
    "# adicionar nós a partir de uma lista\n",
    "G.add_nodes_from(['Mary', 'Steven', 'Alice','John'])"
   ]
  },
  {
   "cell_type": "code",
   "execution_count": 5,
   "metadata": {
    "colab": {
     "base_uri": "https://localhost:8080/",
     "height": 35
    },
    "colab_type": "code",
    "executionInfo": {
     "elapsed": 593,
     "status": "ok",
     "timestamp": 1545956027129,
     "user": {
      "displayName": "Carlos J. Costa",
      "photoUrl": "https://lh4.googleusercontent.com/-L5jq9UnytCE/AAAAAAAAAAI/AAAAAAAAAAc/U4zy7w6afhw/s64/photo.jpg",
      "userId": "12357503072279650791"
     },
     "user_tz": 0
    },
    "id": "70btOmGKKNwg",
    "outputId": "16c26695-eab5-41fc-9a09-80c31d3b75d7"
   },
   "outputs": [
    {
     "data": {
      "text/plain": [
       "NodeView(('Mary', 'Steven', 'Alice', 'John'))"
      ]
     },
     "execution_count": 5,
     "metadata": {},
     "output_type": "execute_result"
    }
   ],
   "source": [
    "# remove node\n",
    "G.nodes"
   ]
  },
  {
   "cell_type": "code",
   "execution_count": 6,
   "metadata": {
    "colab": {},
    "colab_type": "code",
    "id": "NxQKrZbnKT_I"
   },
   "outputs": [],
   "source": [
    "# remove varios nós\n",
    "G.remove_nodes_from(['Mary', 'Steven'])"
   ]
  },
  {
   "cell_type": "code",
   "execution_count": 7,
   "metadata": {
    "colab": {
     "base_uri": "https://localhost:8080/",
     "height": 35
    },
    "colab_type": "code",
    "executionInfo": {
     "elapsed": 608,
     "status": "ok",
     "timestamp": 1545956078189,
     "user": {
      "displayName": "Carlos J. Costa",
      "photoUrl": "https://lh4.googleusercontent.com/-L5jq9UnytCE/AAAAAAAAAAI/AAAAAAAAAAc/U4zy7w6afhw/s64/photo.jpg",
      "userId": "12357503072279650791"
     },
     "user_tz": 0
    },
    "id": "xHm2OuBYKZh4",
    "outputId": "58bbed59-7690-4be8-f586-3f4b930e3777"
   },
   "outputs": [
    {
     "data": {
      "text/plain": [
       "NodeView(('Alice', 'John'))"
      ]
     },
     "execution_count": 7,
     "metadata": {},
     "output_type": "execute_result"
    }
   ],
   "source": [
    "# vê nós\n",
    "G.nodes"
   ]
  },
  {
   "cell_type": "code",
   "execution_count": 8,
   "metadata": {
    "colab": {},
    "colab_type": "code",
    "id": "hb5hhtU2KepS"
   },
   "outputs": [],
   "source": [
    "# adicionar arcos\n",
    "# arcos são tuplos de nós (origem, destino)\n",
    "# também adiciona nós se eles ainda não existirem \n",
    "G.add_edge('Mary','Steven')"
   ]
  },
  {
   "cell_type": "code",
   "execution_count": 9,
   "metadata": {
    "colab": {},
    "colab_type": "code",
    "id": "VXRN6H0DKlh4"
   },
   "outputs": [],
   "source": [
    "# adiciona vários arcos (lista de tuplos)\n",
    "G.add_edges_from([('Mary', 'Steven') , ('Mary', 'Alice'),('Mary','John'),('Mary','Edward')])"
   ]
  },
  {
   "cell_type": "code",
   "execution_count": 10,
   "metadata": {
    "colab": {
     "base_uri": "https://localhost:8080/",
     "height": 35
    },
    "colab_type": "code",
    "executionInfo": {
     "elapsed": 578,
     "status": "ok",
     "timestamp": 1546025988434,
     "user": {
      "displayName": "Carlos J. Costa",
      "photoUrl": "https://lh4.googleusercontent.com/-L5jq9UnytCE/AAAAAAAAAAI/AAAAAAAAAAc/U4zy7w6afhw/s64/photo.jpg",
      "userId": "12357503072279650791"
     },
     "user_tz": 0
    },
    "id": "-rM-iOqoKqbZ",
    "outputId": "74598b60-3f49-4756-ddae-ac36622af73e"
   },
   "outputs": [
    {
     "data": {
      "text/plain": [
       "EdgeView([('Alice', 'Mary'), ('John', 'Mary'), ('Mary', 'Steven'), ('Mary', 'Edward')])"
      ]
     },
     "execution_count": 10,
     "metadata": {},
     "output_type": "execute_result"
    }
   ],
   "source": [
    "# ver os arcos de uma rede G\n",
    "G.edges\n"
   ]
  },
  {
   "cell_type": "code",
   "execution_count": 11,
   "metadata": {
    "colab": {},
    "colab_type": "code",
    "id": "DuzcZT0nKvNg"
   },
   "outputs": [],
   "source": [
    "# remover arcos\n",
    "# G.remove_edge('Mary','Alice')"
   ]
  },
  {
   "cell_type": "code",
   "execution_count": 12,
   "metadata": {
    "colab": {
     "base_uri": "https://localhost:8080/",
     "height": 35
    },
    "colab_type": "code",
    "executionInfo": {
     "elapsed": 765,
     "status": "ok",
     "timestamp": 1545956178699,
     "user": {
      "displayName": "Carlos J. Costa",
      "photoUrl": "https://lh4.googleusercontent.com/-L5jq9UnytCE/AAAAAAAAAAI/AAAAAAAAAAc/U4zy7w6afhw/s64/photo.jpg",
      "userId": "12357503072279650791"
     },
     "user_tz": 0
    },
    "id": "SZo1Atv9KwrB",
    "outputId": "68aa6ef6-6d27-4849-f71f-798a557cfedb"
   },
   "outputs": [
    {
     "data": {
      "text/plain": [
       "5"
      ]
     },
     "execution_count": 12,
     "metadata": {},
     "output_type": "execute_result"
    }
   ],
   "source": [
    "# obter o número de nós na rede G\n",
    "G.number_of_nodes()"
   ]
  },
  {
   "cell_type": "code",
   "execution_count": 13,
   "metadata": {
    "colab": {
     "base_uri": "https://localhost:8080/",
     "height": 35
    },
    "colab_type": "code",
    "executionInfo": {
     "elapsed": 576,
     "status": "ok",
     "timestamp": 1545956195555,
     "user": {
      "displayName": "Carlos J. Costa",
      "photoUrl": "https://lh4.googleusercontent.com/-L5jq9UnytCE/AAAAAAAAAAI/AAAAAAAAAAc/U4zy7w6afhw/s64/photo.jpg",
      "userId": "12357503072279650791"
     },
     "user_tz": 0
    },
    "id": "RT4YB_EOK2p4",
    "outputId": "a505455a-58c6-4abc-e93c-46f9bf9949cf"
   },
   "outputs": [
    {
     "data": {
      "text/plain": [
       "4"
      ]
     },
     "execution_count": 13,
     "metadata": {},
     "output_type": "execute_result"
    }
   ],
   "source": [
    "# obter o número de arcos na rede G\n",
    "G.number_of_edges()"
   ]
  },
  {
   "cell_type": "code",
   "execution_count": 15,
   "metadata": {
    "colab": {
     "base_uri": "https://localhost:8080/",
     "height": 35
    },
    "colab_type": "code",
    "executionInfo": {
     "elapsed": 571,
     "status": "ok",
     "timestamp": 1545956251665,
     "user": {
      "displayName": "Carlos J. Costa",
      "photoUrl": "https://lh4.googleusercontent.com/-L5jq9UnytCE/AAAAAAAAAAI/AAAAAAAAAAc/U4zy7w6afhw/s64/photo.jpg",
      "userId": "12357503072279650791"
     },
     "user_tz": 0
    },
    "id": "zH0LlfGXK8G5",
    "outputId": "bcc691bd-2b38-4b03-c335-0694e7606566"
   },
   "outputs": [
    {
     "data": {
      "text/plain": [
       "['Mary']"
      ]
     },
     "execution_count": 15,
     "metadata": {},
     "output_type": "execute_result"
    }
   ],
   "source": [
    "# obter a vizinhança de Alice (obtem-se um dicionario)\n",
    "#G.add_path([0,1,2,3])\n",
    "\n",
    "neighbors = G.neighbors('Alice')\n",
    "list(neighbors)"
   ]
  },
  {
   "cell_type": "code",
   "execution_count": 18,
   "metadata": {},
   "outputs": [
    {
     "name": "stdout",
     "output_type": "stream",
     "text": [
      "['Mary']\n"
     ]
    }
   ],
   "source": [
    "neighbors = [n for n in G.neighbors('Alice')]\n",
    "print(neighbors)"
   ]
  },
  {
   "cell_type": "code",
   "execution_count": 15,
   "metadata": {
    "colab": {
     "base_uri": "https://localhost:8080/",
     "height": 35
    },
    "colab_type": "code",
    "executionInfo": {
     "elapsed": 790,
     "status": "ok",
     "timestamp": 1545956269011,
     "user": {
      "displayName": "Carlos J. Costa",
      "photoUrl": "https://lh4.googleusercontent.com/-L5jq9UnytCE/AAAAAAAAAAI/AAAAAAAAAAc/U4zy7w6afhw/s64/photo.jpg",
      "userId": "12357503072279650791"
     },
     "user_tz": 0
    },
    "id": "RR5XF8H1LImq",
    "outputId": "80d152fe-8d3a-42bf-d892-4cd8a4d7d3b2"
   },
   "outputs": [
    {
     "data": {
      "text/plain": [
       "1"
      ]
     },
     "execution_count": 15,
     "metadata": {},
     "output_type": "execute_result"
    }
   ],
   "source": [
    "# obter Alice's number of neighbors (connections)\n",
    "G.degree('Alice')"
   ]
  },
  {
   "cell_type": "code",
   "execution_count": 16,
   "metadata": {
    "colab": {},
    "colab_type": "code",
    "id": "RML8QEZ5LMRy"
   },
   "outputs": [],
   "source": [
    "# gravar rede\n",
    "nx.write_edgelist(G, \"parte1\")"
   ]
  },
  {
   "cell_type": "code",
   "execution_count": 17,
   "metadata": {
    "colab": {},
    "colab_type": "code",
    "id": "2SH_bcP-LQ2D"
   },
   "outputs": [],
   "source": [
    "# eliminar conteúdo da rede\n",
    "G.clear()"
   ]
  },
  {
   "cell_type": "code",
   "execution_count": 18,
   "metadata": {
    "colab": {},
    "colab_type": "code",
    "id": "N_BB6bUfLjlM"
   },
   "outputs": [],
   "source": [
    "# ler dados de ficheiro para variavel de rede\n",
    "G = nx.read_edgelist(\"parte1\")"
   ]
  },
  {
   "cell_type": "code",
   "execution_count": 19,
   "metadata": {
    "colab": {
     "base_uri": "https://localhost:8080/",
     "height": 35
    },
    "colab_type": "code",
    "executionInfo": {
     "elapsed": 569,
     "status": "ok",
     "timestamp": 1545957065006,
     "user": {
      "displayName": "Carlos J. Costa",
      "photoUrl": "https://lh4.googleusercontent.com/-L5jq9UnytCE/AAAAAAAAAAI/AAAAAAAAAAc/U4zy7w6afhw/s64/photo.jpg",
      "userId": "12357503072279650791"
     },
     "user_tz": 0
    },
    "id": "bbUy_7LBLpm8",
    "outputId": "57e01bca-f28b-4535-d879-d9d8f3b3ed70"
   },
   "outputs": [
    {
     "data": {
      "text/plain": [
       "EdgeView([('Alice', 'Mary'), ('Mary', 'John'), ('Mary', 'Steven'), ('Mary', 'Edward')])"
      ]
     },
     "execution_count": 19,
     "metadata": {},
     "output_type": "execute_result"
    }
   ],
   "source": [
    "G.edges"
   ]
  },
  {
   "cell_type": "code",
   "execution_count": 21,
   "metadata": {
    "colab": {
     "base_uri": "https://localhost:8080/",
     "height": 336
    },
    "colab_type": "code",
    "executionInfo": {
     "elapsed": 645,
     "status": "ok",
     "timestamp": 1545957074598,
     "user": {
      "displayName": "Carlos J. Costa",
      "photoUrl": "https://lh4.googleusercontent.com/-L5jq9UnytCE/AAAAAAAAAAI/AAAAAAAAAAc/U4zy7w6afhw/s64/photo.jpg",
      "userId": "12357503072279650791"
     },
     "user_tz": 0
    },
    "id": "8CfkDXhILttZ",
    "outputId": "91873819-9026-4c90-b4a6-4c339a1858e6"
   },
   "outputs": [
    {
     "data": {
      "image/png": "[encoded data removed]",
      "text/plain": [
       "<Figure size 432x288 with 1 Axes>"
      ]
     },
     "metadata": {},
     "output_type": "display_data"
    }
   ],
   "source": [
    "#desenho simplificado\n",
    "nx.draw(G)\n",
    "\n"
   ]
  },
  {
   "cell_type": "code",
   "execution_count": 22,
   "metadata": {},
   "outputs": [
    {
     "data": {
      "image/png": "[encoded data removed]",
      "text/plain": [
       "<Figure size 432x288 with 1 Axes>"
      ]
     },
     "metadata": {},
     "output_type": "display_data"
    }
   ],
   "source": [
    "nx.draw(G, with_labels=True)"
   ]
  },
  {
   "cell_type": "code",
   "execution_count": null,
   "metadata": {},
   "outputs": [],
   "source": []
  },
  {
   "cell_type": "code",
   "execution_count": null,
   "metadata": {},
   "outputs": [],
   "source": []
  },
  {
   "cell_type": "code",
   "execution_count": null,
   "metadata": {},
   "outputs": [],
   "source": []
  }
 ],
 "metadata": {
  "colab": {
   "collapsed_sections": [],
   "name": "1.Introducao.ipynb",
   "provenance": [],
   "version": "0.3.2"
  },
  "kernelspec": {
   "display_name": "Python 3",
   "language": "python",
   "name": "python3"
  },
  "language_info": {
   "codemirror_mode": {
    "name": "ipython",
    "version": 3
   },
   "file_extension": ".py",
   "mimetype": "text/x-python",
   "name": "python",
   "nbconvert_exporter": "python",
   "pygments_lexer": "ipython3",
   "version": "3.7.0"
  }
 },
 "nbformat": 4,
 "nbformat_minor": 1
}

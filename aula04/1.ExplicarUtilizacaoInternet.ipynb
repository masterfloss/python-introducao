{
  "nbformat": 4,
  "nbformat_minor": 0,
  "metadata": {
    "colab": {
      "name": "1.ExplicarUtilizacaoInternet.ipynb",
      "version": "0.3.2",
      "provenance": []
    },
    "kernelspec": {
      "display_name": "Python 3",
      "language": "python",
      "name": "python3"
    }
  },
  "cells": [
    {
      "metadata": {
        "id": "diYmQZsr1mos",
        "colab_type": "code",
        "outputId": "9e6ee08e-7a9f-42f7-a5b0-a7b94fd85bf2",
        "colab": {
          "base_uri": "https://localhost:8080/",
          "height": 74
        }
      },
      "cell_type": "code",
      "source": [
        "import pandas as pd\n",
        "import statsmodels.api as sm\n",
        "import matplotlib.pyplot as plt "
      ],
      "execution_count": 0,
      "outputs": [
        {
          "output_type": "stream",
          "text": [
            "/usr/local/lib/python3.6/dist-packages/statsmodels/compat/pandas.py:56: FutureWarning: The pandas.core.datetools module is deprecated and will be removed in a future version. Please use the pandas.tseries module instead.\n",
            "  from pandas.core import datetools\n"
          ],
          "name": "stderr"
        }
      ]
    },
    {
      "metadata": {
        "id": "zqhbjOXycw7a",
        "colab_type": "code",
        "outputId": "392b915c-1a67-40e3-9d04-28e189c9d096",
        "colab": {
          "base_uri": "https://localhost:8080/",
          "height": 35
        }
      },
      "cell_type": "code",
      "source": [
        ""
      ],
      "execution_count": 0,
      "outputs": [
        {
          "output_type": "stream",
          "text": [
            "factbook\\ (1).csv  factbook.csv  factbook_sintese.csv  sample_data\n"
          ],
          "name": "stdout"
        }
      ]
    },
    {
      "metadata": {
        "id": "I6LiDN1l2Sg3",
        "colab_type": "code",
        "colab": {}
      },
      "cell_type": "code",
      "source": [
        "#from google.colab import files\n",
        "#files.upload()"
      ],
      "execution_count": 0,
      "outputs": []
    },
    {
      "metadata": {
        "id": "CTMngeKI1mpd",
        "colab_type": "code",
        "colab": {}
      },
      "cell_type": "code",
      "source": [
        "# Obtido do Banco Mundial\n",
        "df=pd.read_csv('WordBank1.csv')"
      ],
      "execution_count": 0,
      "outputs": []
    },
    {
      "metadata": {
        "id": "1qOY2dGV1mp3",
        "colab_type": "code",
        "outputId": "f25d02db-922b-4d9a-cfc4-2e9046af9d31",
        "colab": {
          "base_uri": "https://localhost:8080/",
          "height": 167
        }
      },
      "cell_type": "code",
      "source": [
        "df.dtypes"
      ],
      "execution_count": 0,
      "outputs": [
        {
          "output_type": "execute_result",
          "data": {
            "text/plain": [
              "Time             object\n",
              "CountryName      object\n",
              "CountryCode      object\n",
              "Literacy         object\n",
              "Internetuse      object\n",
              "SecureServers    object\n",
              "GDPCapita        object\n",
              "dtype: object"
            ]
          },
          "metadata": {
            "tags": []
          },
          "execution_count": 8
        }
      ]
    },
    {
      "metadata": {
        "id": "m52TEcme1mqa",
        "colab_type": "code",
        "colab": {}
      },
      "cell_type": "code",
      "source": [
        "df.loc[:,'Literacy']=pd.to_numeric(df['Literacy'], errors='coerce')\n",
        "df.loc[:,'Internetuse']=pd.to_numeric(df['Internetuse'], errors='coerce')\n",
        "df.loc[:,'SecureServers']=pd.to_numeric(df['SecureServers'], errors='coerce')\n",
        "df.loc[:,'GDPCapita']=pd.to_numeric(df['GDPCapita'], errors='coerce')"
      ],
      "execution_count": 0,
      "outputs": []
    },
    {
      "metadata": {
        "id": "54Je_WzB1mqk",
        "colab_type": "code",
        "colab": {}
      },
      "cell_type": "code",
      "source": [
        "XY=df.dropna()"
      ],
      "execution_count": 0,
      "outputs": []
    },
    {
      "metadata": {
        "id": "NEz7Ol_81mqr",
        "colab_type": "code",
        "outputId": "a264c9b8-14e2-4c7c-cfdd-4860510c59e7",
        "colab": {
          "base_uri": "https://localhost:8080/",
          "height": 206
        }
      },
      "cell_type": "code",
      "source": [
        "XY.head()"
      ],
      "execution_count": 0,
      "outputs": [
        {
          "output_type": "execute_result",
          "data": {
            "text/html": [
              "<div>\n",
              "<style scoped>\n",
              "    .dataframe tbody tr th:only-of-type {\n",
              "        vertical-align: middle;\n",
              "    }\n",
              "\n",
              "    .dataframe tbody tr th {\n",
              "        vertical-align: top;\n",
              "    }\n",
              "\n",
              "    .dataframe thead th {\n",
              "        text-align: right;\n",
              "    }\n",
              "</style>\n",
              "<table border=\"1\" class=\"dataframe\">\n",
              "  <thead>\n",
              "    <tr style=\"text-align: right;\">\n",
              "      <th></th>\n",
              "      <th>Time</th>\n",
              "      <th>CountryName</th>\n",
              "      <th>CountryCode</th>\n",
              "      <th>Literacy</th>\n",
              "      <th>Internetuse</th>\n",
              "      <th>SecureServers</th>\n",
              "      <th>GDPCapita</th>\n",
              "    </tr>\n",
              "  </thead>\n",
              "  <tbody>\n",
              "    <tr>\n",
              "      <th>799</th>\n",
              "      <td>2010</td>\n",
              "      <td>Argentina</td>\n",
              "      <td>ARG</td>\n",
              "      <td>98.95497</td>\n",
              "      <td>45.00</td>\n",
              "      <td>24.936997</td>\n",
              "      <td>10276.260500</td>\n",
              "    </tr>\n",
              "    <tr>\n",
              "      <th>801</th>\n",
              "      <td>2010</td>\n",
              "      <td>Aruba</td>\n",
              "      <td>ABW</td>\n",
              "      <td>96.82264</td>\n",
              "      <td>62.00</td>\n",
              "      <td>88.522559</td>\n",
              "      <td>23512.602600</td>\n",
              "    </tr>\n",
              "    <tr>\n",
              "      <th>804</th>\n",
              "      <td>2010</td>\n",
              "      <td>Azerbaijan</td>\n",
              "      <td>AZE</td>\n",
              "      <td>99.77114</td>\n",
              "      <td>46.00</td>\n",
              "      <td>2.540221</td>\n",
              "      <td>5842.805784</td>\n",
              "    </tr>\n",
              "    <tr>\n",
              "      <th>818</th>\n",
              "      <td>2010</td>\n",
              "      <td>Brazil</td>\n",
              "      <td>BRA</td>\n",
              "      <td>90.37918</td>\n",
              "      <td>40.65</td>\n",
              "      <td>28.095045</td>\n",
              "      <td>11224.154080</td>\n",
              "    </tr>\n",
              "    <tr>\n",
              "      <th>826</th>\n",
              "      <td>2010</td>\n",
              "      <td>Cameroon</td>\n",
              "      <td>CMR</td>\n",
              "      <td>71.29051</td>\n",
              "      <td>4.30</td>\n",
              "      <td>0.350517</td>\n",
              "      <td>1309.122208</td>\n",
              "    </tr>\n",
              "  </tbody>\n",
              "</table>\n",
              "</div>"
            ],
            "text/plain": [
              "     Time CountryName CountryCode  Literacy  Internetuse  SecureServers  \\\n",
              "799  2010   Argentina         ARG  98.95497        45.00      24.936997   \n",
              "801  2010       Aruba         ABW  96.82264        62.00      88.522559   \n",
              "804  2010  Azerbaijan         AZE  99.77114        46.00       2.540221   \n",
              "818  2010      Brazil         BRA  90.37918        40.65      28.095045   \n",
              "826  2010    Cameroon         CMR  71.29051         4.30       0.350517   \n",
              "\n",
              "        GDPCapita  \n",
              "799  10276.260500  \n",
              "801  23512.602600  \n",
              "804   5842.805784  \n",
              "818  11224.154080  \n",
              "826   1309.122208  "
            ]
          },
          "metadata": {
            "tags": []
          },
          "execution_count": 11
        }
      ]
    },
    {
      "metadata": {
        "id": "060icw601mq0",
        "colab_type": "code",
        "colab": {}
      },
      "cell_type": "code",
      "source": [
        "y=XY['Internetuse']"
      ],
      "execution_count": 0,
      "outputs": []
    },
    {
      "metadata": {
        "id": "9qYLyAQP1mq8",
        "colab_type": "code",
        "colab": {}
      },
      "cell_type": "code",
      "source": [
        "X=XY[['Literacy','SecureServers','GDPCapita']]"
      ],
      "execution_count": 0,
      "outputs": []
    },
    {
      "metadata": {
        "id": "MkN9ge-I1mrG",
        "colab_type": "code",
        "outputId": "64f75a10-aa5b-4500-b547-ce86a4d36963",
        "colab": {
          "base_uri": "https://localhost:8080/",
          "height": 425
        }
      },
      "cell_type": "code",
      "source": [
        "\n",
        "X1=sm.add_constant(X)\n",
        "model = sm.OLS(y,X1).fit()\n",
        "model.summary()\n"
      ],
      "execution_count": 0,
      "outputs": [
        {
          "output_type": "execute_result",
          "data": {
            "text/html": [
              "<table class=\"simpletable\">\n",
              "<caption>OLS Regression Results</caption>\n",
              "<tr>\n",
              "  <th>Dep. Variable:</th>       <td>Internetuse</td>   <th>  R-squared:         </th> <td>   0.753</td> \n",
              "</tr>\n",
              "<tr>\n",
              "  <th>Model:</th>                   <td>OLS</td>       <th>  Adj. R-squared:    </th> <td>   0.752</td> \n",
              "</tr>\n",
              "<tr>\n",
              "  <th>Method:</th>             <td>Least Squares</td>  <th>  F-statistic:       </th> <td>   570.4</td> \n",
              "</tr>\n",
              "<tr>\n",
              "  <th>Date:</th>             <td>Mon, 18 Mar 2019</td> <th>  Prob (F-statistic):</th> <td>6.44e-170</td>\n",
              "</tr>\n",
              "<tr>\n",
              "  <th>Time:</th>                 <td>08:10:49</td>     <th>  Log-Likelihood:    </th> <td> -2126.6</td> \n",
              "</tr>\n",
              "<tr>\n",
              "  <th>No. Observations:</th>      <td>   565</td>      <th>  AIC:               </th> <td>   4261.</td> \n",
              "</tr>\n",
              "<tr>\n",
              "  <th>Df Residuals:</th>          <td>   561</td>      <th>  BIC:               </th> <td>   4278.</td> \n",
              "</tr>\n",
              "<tr>\n",
              "  <th>Df Model:</th>              <td>     3</td>      <th>                     </th>     <td> </td>    \n",
              "</tr>\n",
              "<tr>\n",
              "  <th>Covariance Type:</th>      <td>nonrobust</td>    <th>                     </th>     <td> </td>    \n",
              "</tr>\n",
              "</table>\n",
              "<table class=\"simpletable\">\n",
              "<tr>\n",
              "        <td></td>           <th>coef</th>     <th>std err</th>      <th>t</th>      <th>P>|t|</th>  <th>[0.025</th>    <th>0.975]</th>  \n",
              "</tr>\n",
              "<tr>\n",
              "  <th>const</th>         <td>  -32.2335</td> <td>    2.415</td> <td>  -13.345</td> <td> 0.000</td> <td>  -36.978</td> <td>  -27.489</td>\n",
              "</tr>\n",
              "<tr>\n",
              "  <th>Literacy</th>      <td>    0.7202</td> <td>    0.031</td> <td>   23.390</td> <td> 0.000</td> <td>    0.660</td> <td>    0.781</td>\n",
              "</tr>\n",
              "<tr>\n",
              "  <th>SecureServers</th> <td>    0.0012</td> <td>    0.001</td> <td>    2.385</td> <td> 0.017</td> <td>    0.000</td> <td>    0.002</td>\n",
              "</tr>\n",
              "<tr>\n",
              "  <th>GDPCapita</th>     <td>    0.0008</td> <td> 5.41e-05</td> <td>   15.593</td> <td> 0.000</td> <td>    0.001</td> <td>    0.001</td>\n",
              "</tr>\n",
              "</table>\n",
              "<table class=\"simpletable\">\n",
              "<tr>\n",
              "  <th>Omnibus:</th>       <td>15.167</td> <th>  Durbin-Watson:     </th> <td>   1.571</td>\n",
              "</tr>\n",
              "<tr>\n",
              "  <th>Prob(Omnibus):</th> <td> 0.001</td> <th>  Jarque-Bera (JB):  </th> <td>  28.294</td>\n",
              "</tr>\n",
              "<tr>\n",
              "  <th>Skew:</th>          <td> 0.118</td> <th>  Prob(JB):          </th> <td>7.18e-07</td>\n",
              "</tr>\n",
              "<tr>\n",
              "  <th>Kurtosis:</th>      <td> 4.070</td> <th>  Cond. No.          </th> <td>7.30e+04</td>\n",
              "</tr>\n",
              "</table>"
            ],
            "text/plain": [
              "<class 'statsmodels.iolib.summary.Summary'>\n",
              "\"\"\"\n",
              "                            OLS Regression Results                            \n",
              "==============================================================================\n",
              "Dep. Variable:            Internetuse   R-squared:                       0.753\n",
              "Model:                            OLS   Adj. R-squared:                  0.752\n",
              "Method:                 Least Squares   F-statistic:                     570.4\n",
              "Date:                Mon, 18 Mar 2019   Prob (F-statistic):          6.44e-170\n",
              "Time:                        08:10:49   Log-Likelihood:                -2126.6\n",
              "No. Observations:                 565   AIC:                             4261.\n",
              "Df Residuals:                     561   BIC:                             4278.\n",
              "Df Model:                           3                                         \n",
              "Covariance Type:            nonrobust                                         \n",
              "=================================================================================\n",
              "                    coef    std err          t      P>|t|      [0.025      0.975]\n",
              "---------------------------------------------------------------------------------\n",
              "const           -32.2335      2.415    -13.345      0.000     -36.978     -27.489\n",
              "Literacy          0.7202      0.031     23.390      0.000       0.660       0.781\n",
              "SecureServers     0.0012      0.001      2.385      0.017       0.000       0.002\n",
              "GDPCapita         0.0008   5.41e-05     15.593      0.000       0.001       0.001\n",
              "==============================================================================\n",
              "Omnibus:                       15.167   Durbin-Watson:                   1.571\n",
              "Prob(Omnibus):                  0.001   Jarque-Bera (JB):               28.294\n",
              "Skew:                           0.118   Prob(JB):                     7.18e-07\n",
              "Kurtosis:                       4.070   Cond. No.                     7.30e+04\n",
              "==============================================================================\n",
              "\n",
              "Warnings:\n",
              "[1] Standard Errors assume that the covariance matrix of the errors is correctly specified.\n",
              "[2] The condition number is large, 7.3e+04. This might indicate that there are\n",
              "strong multicollinearity or other numerical problems.\n",
              "\"\"\""
            ]
          },
          "metadata": {
            "tags": []
          },
          "execution_count": 15
        }
      ]
    },
    {
      "metadata": {
        "id": "PTXwwkl_1mrV",
        "colab_type": "code",
        "outputId": "b9c19878-5762-48e3-8003-c38c6d1a2342",
        "colab": {
          "base_uri": "https://localhost:8080/",
          "height": 175
        }
      },
      "cell_type": "code",
      "source": [
        "df.corr(method='spearman')"
      ],
      "execution_count": 0,
      "outputs": [
        {
          "output_type": "execute_result",
          "data": {
            "text/html": [
              "<div>\n",
              "<style scoped>\n",
              "    .dataframe tbody tr th:only-of-type {\n",
              "        vertical-align: middle;\n",
              "    }\n",
              "\n",
              "    .dataframe tbody tr th {\n",
              "        vertical-align: top;\n",
              "    }\n",
              "\n",
              "    .dataframe thead th {\n",
              "        text-align: right;\n",
              "    }\n",
              "</style>\n",
              "<table border=\"1\" class=\"dataframe\">\n",
              "  <thead>\n",
              "    <tr style=\"text-align: right;\">\n",
              "      <th></th>\n",
              "      <th>Literacy</th>\n",
              "      <th>Internetuse</th>\n",
              "      <th>SecureServers</th>\n",
              "      <th>GDPCapita</th>\n",
              "    </tr>\n",
              "  </thead>\n",
              "  <tbody>\n",
              "    <tr>\n",
              "      <th>Literacy</th>\n",
              "      <td>1.000000</td>\n",
              "      <td>0.695178</td>\n",
              "      <td>0.682225</td>\n",
              "      <td>0.736825</td>\n",
              "    </tr>\n",
              "    <tr>\n",
              "      <th>Internetuse</th>\n",
              "      <td>0.695178</td>\n",
              "      <td>1.000000</td>\n",
              "      <td>0.905294</td>\n",
              "      <td>0.796890</td>\n",
              "    </tr>\n",
              "    <tr>\n",
              "      <th>SecureServers</th>\n",
              "      <td>0.682225</td>\n",
              "      <td>0.905294</td>\n",
              "      <td>1.000000</td>\n",
              "      <td>0.827992</td>\n",
              "    </tr>\n",
              "    <tr>\n",
              "      <th>GDPCapita</th>\n",
              "      <td>0.736825</td>\n",
              "      <td>0.796890</td>\n",
              "      <td>0.827992</td>\n",
              "      <td>1.000000</td>\n",
              "    </tr>\n",
              "  </tbody>\n",
              "</table>\n",
              "</div>"
            ],
            "text/plain": [
              "               Literacy  Internetuse  SecureServers  GDPCapita\n",
              "Literacy       1.000000     0.695178       0.682225   0.736825\n",
              "Internetuse    0.695178     1.000000       0.905294   0.796890\n",
              "SecureServers  0.682225     0.905294       1.000000   0.827992\n",
              "GDPCapita      0.736825     0.796890       0.827992   1.000000"
            ]
          },
          "metadata": {
            "tags": []
          },
          "execution_count": 16
        }
      ]
    },
    {
      "metadata": {
        "id": "gTju-jWx1mrh",
        "colab_type": "code",
        "colab": {}
      },
      "cell_type": "code",
      "source": [
        "x=XY['GDPCapita']"
      ],
      "execution_count": 0,
      "outputs": []
    },
    {
      "metadata": {
        "id": "n8vQ9B541mro",
        "colab_type": "code",
        "outputId": "2e1444d6-19f1-425a-8b58-1789bb50f85f",
        "colab": {
          "base_uri": "https://localhost:8080/",
          "height": 382
        }
      },
      "cell_type": "code",
      "source": [
        "x1=sm.add_constant(x)\n",
        "model = sm.OLS(y,x1).fit()\n",
        "model.summary()"
      ],
      "execution_count": 0,
      "outputs": [
        {
          "output_type": "execute_result",
          "data": {
            "text/html": [
              "<table class=\"simpletable\">\n",
              "<caption>OLS Regression Results</caption>\n",
              "<tr>\n",
              "  <th>Dep. Variable:</th>       <td>Internetuse</td>   <th>  R-squared:         </th> <td>   0.512</td>\n",
              "</tr>\n",
              "<tr>\n",
              "  <th>Model:</th>                   <td>OLS</td>       <th>  Adj. R-squared:    </th> <td>   0.511</td>\n",
              "</tr>\n",
              "<tr>\n",
              "  <th>Method:</th>             <td>Least Squares</td>  <th>  F-statistic:       </th> <td>   590.9</td>\n",
              "</tr>\n",
              "<tr>\n",
              "  <th>Date:</th>             <td>Mon, 18 Mar 2019</td> <th>  Prob (F-statistic):</th> <td>8.78e-90</td>\n",
              "</tr>\n",
              "<tr>\n",
              "  <th>Time:</th>                 <td>08:11:05</td>     <th>  Log-Likelihood:    </th> <td> -2319.0</td>\n",
              "</tr>\n",
              "<tr>\n",
              "  <th>No. Observations:</th>      <td>   565</td>      <th>  AIC:               </th> <td>   4642.</td>\n",
              "</tr>\n",
              "<tr>\n",
              "  <th>Df Residuals:</th>          <td>   563</td>      <th>  BIC:               </th> <td>   4651.</td>\n",
              "</tr>\n",
              "<tr>\n",
              "  <th>Df Model:</th>              <td>     1</td>      <th>                     </th>     <td> </td>   \n",
              "</tr>\n",
              "<tr>\n",
              "  <th>Covariance Type:</th>      <td>nonrobust</td>    <th>                     </th>     <td> </td>   \n",
              "</tr>\n",
              "</table>\n",
              "<table class=\"simpletable\">\n",
              "<tr>\n",
              "      <td></td>         <th>coef</th>     <th>std err</th>      <th>t</th>      <th>P>|t|</th>  <th>[0.025</th>    <th>0.975]</th>  \n",
              "</tr>\n",
              "<tr>\n",
              "  <th>const</th>     <td>   22.6196</td> <td>    0.787</td> <td>   28.735</td> <td> 0.000</td> <td>   21.073</td> <td>   24.166</td>\n",
              "</tr>\n",
              "<tr>\n",
              "  <th>GDPCapita</th> <td>    0.0014</td> <td> 5.92e-05</td> <td>   24.308</td> <td> 0.000</td> <td>    0.001</td> <td>    0.002</td>\n",
              "</tr>\n",
              "</table>\n",
              "<table class=\"simpletable\">\n",
              "<tr>\n",
              "  <th>Omnibus:</th>       <td> 4.062</td> <th>  Durbin-Watson:     </th> <td>   1.487</td>\n",
              "</tr>\n",
              "<tr>\n",
              "  <th>Prob(Omnibus):</th> <td> 0.131</td> <th>  Jarque-Bera (JB):  </th> <td>   3.877</td>\n",
              "</tr>\n",
              "<tr>\n",
              "  <th>Skew:</th>          <td> 0.195</td> <th>  Prob(JB):          </th> <td>   0.144</td>\n",
              "</tr>\n",
              "<tr>\n",
              "  <th>Kurtosis:</th>      <td> 3.109</td> <th>  Cond. No.          </th> <td>1.69e+04</td>\n",
              "</tr>\n",
              "</table>"
            ],
            "text/plain": [
              "<class 'statsmodels.iolib.summary.Summary'>\n",
              "\"\"\"\n",
              "                            OLS Regression Results                            \n",
              "==============================================================================\n",
              "Dep. Variable:            Internetuse   R-squared:                       0.512\n",
              "Model:                            OLS   Adj. R-squared:                  0.511\n",
              "Method:                 Least Squares   F-statistic:                     590.9\n",
              "Date:                Mon, 18 Mar 2019   Prob (F-statistic):           8.78e-90\n",
              "Time:                        08:11:05   Log-Likelihood:                -2319.0\n",
              "No. Observations:                 565   AIC:                             4642.\n",
              "Df Residuals:                     563   BIC:                             4651.\n",
              "Df Model:                           1                                         \n",
              "Covariance Type:            nonrobust                                         \n",
              "==============================================================================\n",
              "                 coef    std err          t      P>|t|      [0.025      0.975]\n",
              "------------------------------------------------------------------------------\n",
              "const         22.6196      0.787     28.735      0.000      21.073      24.166\n",
              "GDPCapita      0.0014   5.92e-05     24.308      0.000       0.001       0.002\n",
              "==============================================================================\n",
              "Omnibus:                        4.062   Durbin-Watson:                   1.487\n",
              "Prob(Omnibus):                  0.131   Jarque-Bera (JB):                3.877\n",
              "Skew:                           0.195   Prob(JB):                        0.144\n",
              "Kurtosis:                       3.109   Cond. No.                     1.69e+04\n",
              "==============================================================================\n",
              "\n",
              "Warnings:\n",
              "[1] Standard Errors assume that the covariance matrix of the errors is correctly specified.\n",
              "[2] The condition number is large, 1.69e+04. This might indicate that there are\n",
              "strong multicollinearity or other numerical problems.\n",
              "\"\"\""
            ]
          },
          "metadata": {
            "tags": []
          },
          "execution_count": 18
        }
      ]
    },
    {
      "metadata": {
        "id": "LMUIxX0j1mrw",
        "colab_type": "code",
        "outputId": "92b2752d-c53e-41a8-fdec-69342d9f53ef",
        "colab": {
          "base_uri": "https://localhost:8080/",
          "height": 36
        }
      },
      "cell_type": "code",
      "source": [
        "type(x)"
      ],
      "execution_count": 0,
      "outputs": [
        {
          "output_type": "execute_result",
          "data": {
            "text/plain": [
              "pandas.core.series.Series"
            ]
          },
          "metadata": {
            "tags": []
          },
          "execution_count": 19
        }
      ]
    },
    {
      "metadata": {
        "id": "_PDkyfNK1mr4",
        "colab_type": "code",
        "outputId": "a39f2627-6597-4e7d-ad44-400b42073670",
        "colab": {
          "base_uri": "https://localhost:8080/",
          "height": 36
        }
      },
      "cell_type": "code",
      "source": [
        "type(y)"
      ],
      "execution_count": 0,
      "outputs": [
        {
          "output_type": "execute_result",
          "data": {
            "text/plain": [
              "pandas.core.series.Series"
            ]
          },
          "metadata": {
            "tags": []
          },
          "execution_count": 20
        }
      ]
    },
    {
      "metadata": {
        "id": "gL_0jG4_1msA",
        "colab_type": "code",
        "outputId": "4edc2692-9749-4368-92aa-8a10fcc739cb",
        "colab": {
          "base_uri": "https://localhost:8080/",
          "height": 366
        }
      },
      "cell_type": "code",
      "source": [
        "\n",
        "plt.scatter(x,y)\n"
      ],
      "execution_count": 0,
      "outputs": [
        {
          "output_type": "execute_result",
          "data": {
            "text/plain": [
              "<matplotlib.collections.PathCollection at 0x7f72658a0470>"
            ]
          },
          "metadata": {
            "tags": []
          },
          "execution_count": 21
        },
        {
          "output_type": "display_data",
          "data": {
            "image/png": "[encoded data removed]",
            "text/plain": [
              "<Figure size 576x396 with 1 Axes>"
            ]
          },
          "metadata": {
            "tags": []
          }
        }
      ]
    },
    {
      "metadata": {
        "id": "2Z5sxn581msK",
        "colab_type": "code",
        "colab": {}
      },
      "cell_type": "code",
      "source": [
        "import numpy as np\n",
        "logx=np.log(x)\n",
        "logy=np.log(y)"
      ],
      "execution_count": 0,
      "outputs": []
    },
    {
      "metadata": {
        "id": "v-w1bzlZ1msX",
        "colab_type": "code",
        "outputId": "b28a8c4c-5e7f-4484-8eb7-f08845f9051b",
        "colab": {
          "base_uri": "https://localhost:8080/",
          "height": 366
        }
      },
      "cell_type": "code",
      "source": [
        "plt.scatter(logx,logy)"
      ],
      "execution_count": 0,
      "outputs": [
        {
          "output_type": "execute_result",
          "data": {
            "text/plain": [
              "<matplotlib.collections.PathCollection at 0x7f7262fa5710>"
            ]
          },
          "metadata": {
            "tags": []
          },
          "execution_count": 26
        },
        {
          "output_type": "display_data",
          "data": {
            "image/png": "[encoded data removed]",
            "text/plain": [
              "<Figure size 576x396 with 1 Axes>"
            ]
          },
          "metadata": {
            "tags": []
          }
        }
      ]
    },
    {
      "metadata": {
        "id": "TtVEQUCg1msk",
        "colab_type": "code",
        "outputId": "fcc7b7e8-6cff-4b4f-b477-827305512117",
        "colab": {
          "base_uri": "https://localhost:8080/",
          "height": 382
        }
      },
      "cell_type": "code",
      "source": [
        "x1=sm.add_constant(logx)\n",
        "model = sm.OLS(logy,x1).fit()\n",
        "model.summary()"
      ],
      "execution_count": 0,
      "outputs": [
        {
          "output_type": "execute_result",
          "data": {
            "text/html": [
              "<table class=\"simpletable\">\n",
              "<caption>OLS Regression Results</caption>\n",
              "<tr>\n",
              "  <th>Dep. Variable:</th>       <td>Internetuse</td>   <th>  R-squared:         </th> <td>   0.705</td> \n",
              "</tr>\n",
              "<tr>\n",
              "  <th>Model:</th>                   <td>OLS</td>       <th>  Adj. R-squared:    </th> <td>   0.705</td> \n",
              "</tr>\n",
              "<tr>\n",
              "  <th>Method:</th>             <td>Least Squares</td>  <th>  F-statistic:       </th> <td>   1346.</td> \n",
              "</tr>\n",
              "<tr>\n",
              "  <th>Date:</th>             <td>Mon, 18 Mar 2019</td> <th>  Prob (F-statistic):</th> <td>2.10e-151</td>\n",
              "</tr>\n",
              "<tr>\n",
              "  <th>Time:</th>                 <td>08:12:32</td>     <th>  Log-Likelihood:    </th> <td> -360.73</td> \n",
              "</tr>\n",
              "<tr>\n",
              "  <th>No. Observations:</th>      <td>   565</td>      <th>  AIC:               </th> <td>   725.5</td> \n",
              "</tr>\n",
              "<tr>\n",
              "  <th>Df Residuals:</th>          <td>   563</td>      <th>  BIC:               </th> <td>   734.1</td> \n",
              "</tr>\n",
              "<tr>\n",
              "  <th>Df Model:</th>              <td>     1</td>      <th>                     </th>     <td> </td>    \n",
              "</tr>\n",
              "<tr>\n",
              "  <th>Covariance Type:</th>      <td>nonrobust</td>    <th>                     </th>     <td> </td>    \n",
              "</tr>\n",
              "</table>\n",
              "<table class=\"simpletable\">\n",
              "<tr>\n",
              "      <td></td>         <th>coef</th>     <th>std err</th>      <th>t</th>      <th>P>|t|</th>  <th>[0.025</th>    <th>0.975]</th>  \n",
              "</tr>\n",
              "<tr>\n",
              "  <th>const</th>     <td>   -2.0832</td> <td>    0.147</td> <td>  -14.151</td> <td> 0.000</td> <td>   -2.372</td> <td>   -1.794</td>\n",
              "</tr>\n",
              "<tr>\n",
              "  <th>GDPCapita</th> <td>    0.6357</td> <td>    0.017</td> <td>   36.688</td> <td> 0.000</td> <td>    0.602</td> <td>    0.670</td>\n",
              "</tr>\n",
              "</table>\n",
              "<table class=\"simpletable\">\n",
              "<tr>\n",
              "  <th>Omnibus:</th>       <td>97.401</td> <th>  Durbin-Watson:     </th> <td>   1.441</td>\n",
              "</tr>\n",
              "<tr>\n",
              "  <th>Prob(Omnibus):</th> <td> 0.000</td> <th>  Jarque-Bera (JB):  </th> <td> 255.303</td>\n",
              "</tr>\n",
              "<tr>\n",
              "  <th>Skew:</th>          <td>-0.865</td> <th>  Prob(JB):          </th> <td>3.65e-56</td>\n",
              "</tr>\n",
              "<tr>\n",
              "  <th>Kurtosis:</th>      <td> 5.802</td> <th>  Cond. No.          </th> <td>    65.7</td>\n",
              "</tr>\n",
              "</table>"
            ],
            "text/plain": [
              "<class 'statsmodels.iolib.summary.Summary'>\n",
              "\"\"\"\n",
              "                            OLS Regression Results                            \n",
              "==============================================================================\n",
              "Dep. Variable:            Internetuse   R-squared:                       0.705\n",
              "Model:                            OLS   Adj. R-squared:                  0.705\n",
              "Method:                 Least Squares   F-statistic:                     1346.\n",
              "Date:                Mon, 18 Mar 2019   Prob (F-statistic):          2.10e-151\n",
              "Time:                        08:12:32   Log-Likelihood:                -360.73\n",
              "No. Observations:                 565   AIC:                             725.5\n",
              "Df Residuals:                     563   BIC:                             734.1\n",
              "Df Model:                           1                                         \n",
              "Covariance Type:            nonrobust                                         \n",
              "==============================================================================\n",
              "                 coef    std err          t      P>|t|      [0.025      0.975]\n",
              "------------------------------------------------------------------------------\n",
              "const         -2.0832      0.147    -14.151      0.000      -2.372      -1.794\n",
              "GDPCapita      0.6357      0.017     36.688      0.000       0.602       0.670\n",
              "==============================================================================\n",
              "Omnibus:                       97.401   Durbin-Watson:                   1.441\n",
              "Prob(Omnibus):                  0.000   Jarque-Bera (JB):              255.303\n",
              "Skew:                          -0.865   Prob(JB):                     3.65e-56\n",
              "Kurtosis:                       5.802   Cond. No.                         65.7\n",
              "==============================================================================\n",
              "\n",
              "Warnings:\n",
              "[1] Standard Errors assume that the covariance matrix of the errors is correctly specified.\n",
              "\"\"\""
            ]
          },
          "metadata": {
            "tags": []
          },
          "execution_count": 27
        }
      ]
    },
    {
      "metadata": {
        "id": "FHOtnRcz1msw",
        "colab_type": "code",
        "colab": {}
      },
      "cell_type": "code",
      "source": [
        ""
      ],
      "execution_count": 0,
      "outputs": []
    }
  ]
}